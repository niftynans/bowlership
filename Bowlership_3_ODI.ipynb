{
 "cells": [
  {
   "cell_type": "code",
   "execution_count": 2,
   "metadata": {},
   "outputs": [],
   "source": [
    "import pandas as pd\n",
    "import numpy as np\n",
    "import yaml\n",
    "import math\n",
    "import os\n",
    "import matplotlib.pyplot as plt\n",
    "import scipy.stats\n",
    "\n",
    "min_overs = 300\n",
    "min_pair_overs = 60  # 1/5th of min_overs"
   ]
  },
  {
   "cell_type": "code",
   "execution_count": 4,
   "metadata": {},
   "outputs": [
    {
     "name": "stdout",
     "output_type": "stream",
     "text": [
      "                  over\n",
      "bowler                \n",
      "AD Mathews         446\n",
      "AG Cremer          327\n",
      "AU Rashid          456\n",
      "Abdur Razzak       581\n",
      "B Kumar            492\n",
      "B Lee              439\n",
      "BAW Mendis         326\n",
      "CH Gayle           351\n",
      "CR Woakes          413\n",
      "DJ Bravo           537\n",
      "DJG Sammy          438\n",
      "DL Vettori         590\n",
      "DW Steyn           513\n",
      "Dawlat Zadran      301\n",
      "E Chigumbura       306\n",
      "GH Dockrell        340\n",
      "GP Swann           334\n",
      "Harbhajan Singh    589\n",
      "I Sharma           412\n",
      "IK Pathan          384\n",
      "Imran Tahir        459\n",
      "J Botha            327\n",
      "JDP Oram           320\n",
      "JE Taylor          362\n",
      "JH Kallis          304\n",
      "JJ Bumrah          354\n",
      "JM Anderson        702\n",
      "JO Holder          519\n",
      "Junaid Khan        323\n",
      "K Rabada           339\n",
      "KAJ Roach          350\n",
      "KD Mills           500\n",
      "KJ O'Brien         307\n",
      "KMDN Kulasekara    628\n",
      "LE Plunkett        352\n",
      "M Morkel           466\n",
      "M Muralitharan     362\n",
      "M Ntini            331\n",
      "MA Starc           340\n",
      "MG Johnson         513\n",
      "MM Ali             452\n",
      "MN Samuels         332\n",
      "Mahmudullah        366\n",
      "Mashrafe Mortaza   802\n",
      "Mohammad Hafeez    655\n",
      "Mohammad Irfan     301\n",
      "Mohammad Nabi      365\n",
      "Mohammed Shami     398\n",
      "NLTC Perera        499\n",
      "NW Bracken         320\n",
      "P Kumar            313\n",
      "P Utseya           534\n",
      "PD Collingwood     363\n",
      "R Ashwin           610\n",
      "RA Jadeja          886\n",
      "RAS Lakmal         334\n",
      "Rubel Hossain      342\n",
      "SC Williams        367\n",
      "SCJ Broad          556\n",
      "SL Malinga         834\n",
      "SM Pollock         395\n",
      "SP Narine          316\n",
      "SR Watson          371\n",
      "ST Finn            327\n",
      "Saeed Ajmal        491\n",
      "Shahid Afridi      917\n",
      "Shakib Al Hasan    878\n",
      "Shoaib Malik       369\n",
      "TA Boult           397\n",
      "TG Southee         556\n",
      "TJ Murtagh         301\n",
      "TL Chatara         341\n",
      "TM Dilshan         344\n",
      "TT Bresnan         371\n",
      "UT Yadav           353\n",
      "Umar Gul           467\n",
      "WB Rankin          301\n",
      "Wahab Riaz         412\n",
      "Yuvraj Singh       340\n",
      "Z Khan             492\n"
     ]
    },
    {
     "data": {
      "text/plain": [
       "1148"
      ]
     },
     "execution_count": 4,
     "metadata": {},
     "output_type": "execute_result"
    }
   ],
   "source": [
    "og_data = pd.read_csv('/home/pnans/Documents/Projects/Bowlership/Main Stuff/odiout.csv')\n",
    "bovercnt = og_data.groupby('bowler').count()\n",
    "bovercnt = bovercnt.drop(['runs', 'wicket'], axis =1)\n",
    "qbovercnt = bovercnt.loc[bovercnt['over'] >= min_overs]\n",
    "\n",
    "pd.set_option('display.max_rows', 10000)\n",
    "print(qbovercnt)\n",
    "len(bovercnt)"
   ]
  },
  {
   "cell_type": "code",
   "execution_count": 3,
   "metadata": {},
   "outputs": [
    {
     "data": {
      "text/html": [
       "<div>\n",
       "<style scoped>\n",
       "    .dataframe tbody tr th:only-of-type {\n",
       "        vertical-align: middle;\n",
       "    }\n",
       "\n",
       "    .dataframe tbody tr th {\n",
       "        vertical-align: top;\n",
       "    }\n",
       "\n",
       "    .dataframe thead th {\n",
       "        text-align: right;\n",
       "    }\n",
       "</style>\n",
       "<table border=\"1\" class=\"dataframe\">\n",
       "  <thead>\n",
       "    <tr style=\"text-align: right;\">\n",
       "      <th></th>\n",
       "      <th>runs1</th>\n",
       "      <th>wicket1</th>\n",
       "      <th>over1</th>\n",
       "      <th>bowler1</th>\n",
       "      <th>runs2</th>\n",
       "      <th>wicket2</th>\n",
       "      <th>over2</th>\n",
       "      <th>bowler2</th>\n",
       "    </tr>\n",
       "  </thead>\n",
       "  <tbody>\n",
       "    <tr>\n",
       "      <th>0</th>\n",
       "      <td>10</td>\n",
       "      <td>0</td>\n",
       "      <td>1</td>\n",
       "      <td>Z Khan</td>\n",
       "      <td>2</td>\n",
       "      <td>0</td>\n",
       "      <td>2</td>\n",
       "      <td>P Kumar</td>\n",
       "    </tr>\n",
       "    <tr>\n",
       "      <th>1</th>\n",
       "      <td>2</td>\n",
       "      <td>0</td>\n",
       "      <td>3</td>\n",
       "      <td>Z Khan</td>\n",
       "      <td>2</td>\n",
       "      <td>0</td>\n",
       "      <td>4</td>\n",
       "      <td>P Kumar</td>\n",
       "    </tr>\n",
       "    <tr>\n",
       "      <th>2</th>\n",
       "      <td>1</td>\n",
       "      <td>0</td>\n",
       "      <td>5</td>\n",
       "      <td>Z Khan</td>\n",
       "      <td>2</td>\n",
       "      <td>0</td>\n",
       "      <td>6</td>\n",
       "      <td>P Kumar</td>\n",
       "    </tr>\n",
       "    <tr>\n",
       "      <th>3</th>\n",
       "      <td>2</td>\n",
       "      <td>0</td>\n",
       "      <td>7</td>\n",
       "      <td>Z Khan</td>\n",
       "      <td>9</td>\n",
       "      <td>0</td>\n",
       "      <td>8</td>\n",
       "      <td>P Kumar</td>\n",
       "    </tr>\n",
       "    <tr>\n",
       "      <th>4</th>\n",
       "      <td>5</td>\n",
       "      <td>0</td>\n",
       "      <td>9</td>\n",
       "      <td>Z Khan</td>\n",
       "      <td>8</td>\n",
       "      <td>0</td>\n",
       "      <td>10</td>\n",
       "      <td>P Kumar</td>\n",
       "    </tr>\n",
       "    <tr>\n",
       "      <th>...</th>\n",
       "      <td>...</td>\n",
       "      <td>...</td>\n",
       "      <td>...</td>\n",
       "      <td>...</td>\n",
       "      <td>...</td>\n",
       "      <td>...</td>\n",
       "      <td>...</td>\n",
       "      <td>...</td>\n",
       "    </tr>\n",
       "    <tr>\n",
       "      <th>46915</th>\n",
       "      <td>1</td>\n",
       "      <td>0</td>\n",
       "      <td>39</td>\n",
       "      <td>Kuldeep Yadav</td>\n",
       "      <td>7</td>\n",
       "      <td>0</td>\n",
       "      <td>40</td>\n",
       "      <td>YS Chahal</td>\n",
       "    </tr>\n",
       "    <tr>\n",
       "      <th>46916</th>\n",
       "      <td>4</td>\n",
       "      <td>0</td>\n",
       "      <td>41</td>\n",
       "      <td>Kuldeep Yadav</td>\n",
       "      <td>1</td>\n",
       "      <td>0</td>\n",
       "      <td>42</td>\n",
       "      <td>B Kumar</td>\n",
       "    </tr>\n",
       "    <tr>\n",
       "      <th>46917</th>\n",
       "      <td>11</td>\n",
       "      <td>0</td>\n",
       "      <td>43</td>\n",
       "      <td>YS Chahal</td>\n",
       "      <td>4</td>\n",
       "      <td>0</td>\n",
       "      <td>44</td>\n",
       "      <td>B Kumar</td>\n",
       "    </tr>\n",
       "    <tr>\n",
       "      <th>46918</th>\n",
       "      <td>4</td>\n",
       "      <td>0</td>\n",
       "      <td>45</td>\n",
       "      <td>YS Chahal</td>\n",
       "      <td>3</td>\n",
       "      <td>0</td>\n",
       "      <td>46</td>\n",
       "      <td>JJ Bumrah</td>\n",
       "    </tr>\n",
       "    <tr>\n",
       "      <th>46919</th>\n",
       "      <td>12</td>\n",
       "      <td>1</td>\n",
       "      <td>47</td>\n",
       "      <td>B Kumar</td>\n",
       "      <td>3</td>\n",
       "      <td>1</td>\n",
       "      <td>48</td>\n",
       "      <td>JJ Bumrah</td>\n",
       "    </tr>\n",
       "  </tbody>\n",
       "</table>\n",
       "<p>46920 rows × 8 columns</p>\n",
       "</div>"
      ],
      "text/plain": [
       "       runs1  wicket1  over1        bowler1  runs2  wicket2  over2    bowler2\n",
       "0         10        0      1         Z Khan      2        0      2    P Kumar\n",
       "1          2        0      3         Z Khan      2        0      4    P Kumar\n",
       "2          1        0      5         Z Khan      2        0      6    P Kumar\n",
       "3          2        0      7         Z Khan      9        0      8    P Kumar\n",
       "4          5        0      9         Z Khan      8        0     10    P Kumar\n",
       "...      ...      ...    ...            ...    ...      ...    ...        ...\n",
       "46915      1        0     39  Kuldeep Yadav      7        0     40  YS Chahal\n",
       "46916      4        0     41  Kuldeep Yadav      1        0     42    B Kumar\n",
       "46917     11        0     43      YS Chahal      4        0     44    B Kumar\n",
       "46918      4        0     45      YS Chahal      3        0     46  JJ Bumrah\n",
       "46919     12        1     47        B Kumar      3        1     48  JJ Bumrah\n",
       "\n",
       "[46920 rows x 8 columns]"
      ]
     },
     "execution_count": 3,
     "metadata": {},
     "output_type": "execute_result"
    }
   ],
   "source": [
    "paired_data = pd.read_csv('/home/pnans/Documents/Projects/Bowlership/odipair.csv')\n",
    "paired_data"
   ]
  },
  {
   "cell_type": "code",
   "execution_count": 4,
   "metadata": {},
   "outputs": [
    {
     "data": {
      "text/plain": [
       "bowler1         bowler2      \n",
       "A Beggs         GH Lewis         4\n",
       "                L Maritz         3\n",
       "                SM Kavanagh      2\n",
       "A Bohara        KD Mills         1\n",
       "                P Khadka         1\n",
       "                                ..\n",
       "Ziaur Rahman    Mahmudullah      6\n",
       "                Mominul Haque    6\n",
       "                Rubel Hossain    2\n",
       "Zulfiqar Babar  Anwar Ali        5\n",
       "                Shahid Afridi    1\n",
       "Length: 18272, dtype: int64"
      ]
     },
     "execution_count": 4,
     "metadata": {},
     "output_type": "execute_result"
    }
   ],
   "source": [
    "pairdf = paired_data.groupby(['bowler1','bowler2']).size().append(paired_data.groupby(['bowler2','bowler1']).size())\n",
    "pairdf"
   ]
  },
  {
   "cell_type": "code",
   "execution_count": 5,
   "metadata": {},
   "outputs": [
    {
     "data": {
      "text/plain": [
       "80"
      ]
     },
     "execution_count": 5,
     "metadata": {},
     "output_type": "execute_result"
    }
   ],
   "source": [
    "#names = og_data['bowler'].unique()\n",
    "bnames = qbovercnt.index\n",
    "Bpartners = {}\n",
    "for name in bnames:\n",
    "    Bpartners[name] = []\n",
    "    Bpartners[name] = paired_data.query('bowler1 == @name')['bowler2'].append(paired_data.query('bowler2 == @name')['bowler1']).unique()\n",
    "\n",
    "len(Bpartners)"
   ]
  },
  {
   "cell_type": "code",
   "execution_count": 6,
   "metadata": {
    "scrolled": true
   },
   "outputs": [
    {
     "name": "stdout",
     "output_type": "stream",
     "text": [
      "AD Mathews NLTC Perera 61\n",
      "AD Mathews KMDN Kulasekara 61\n",
      "AU Rashid MM Ali 167\n",
      "AU Rashid LE Plunkett 72\n",
      "Abdur Razzak Shakib Al Hasan 130\n",
      "Abdur Razzak Mahmudullah 68\n",
      "B Kumar JJ Bumrah 121\n",
      "B Kumar Mohammed Shami 95\n",
      "B Lee NW Bracken 78\n",
      "CH Gayle DJ Bravo 64\n",
      "DJ Bravo DJG Sammy 67\n",
      "DL Vettori SB Styris 87\n",
      "DL Vettori JDP Oram 66\n",
      "DW Steyn M Morkel 71\n",
      "Dawlat Zadran Mujeeb Ur Rahman 65\n",
      "Harbhajan Singh Yuvraj Singh 93\n",
      "JM Anderson TT Bresnan 86\n",
      "JM Anderson SCJ Broad 166\n",
      "JM Anderson ST Finn 63\n",
      "JO Holder SS Cottrell 63\n",
      "KD Mills TG Southee 84\n",
      "KMDN Kulasekara SL Malinga 166\n",
      "M Muralitharan ST Jayasuriya 61\n",
      "M Ntini SM Pollock 158\n",
      "MG Johnson SR Watson 64\n",
      "Mahmudullah Shakib Al Hasan 89\n",
      "Mashrafe Mortaza Syed Rasel 74\n",
      "Mashrafe Mortaza Shakib Al Hasan 95\n",
      "Mashrafe Mortaza Shahadat Hossain 60\n",
      "Mashrafe Mortaza Mustafizur Rahman 67\n",
      "Mohammad Hafeez Shahid Afridi 178\n",
      "Mohammad Hafeez Saeed Ajmal 73\n",
      "Mohammad Nabi Rashid Khan 101\n",
      "P Utseya RW Price 70\n",
      "R Ashwin RA Jadeja 198\n",
      "Rubel Hossain Shakib Al Hasan 66\n",
      "SC Williams Sikandar Raza 66\n",
      "SCJ Broad TT Bresnan 65\n",
      "Saeed Ajmal Shahid Afridi 157\n",
      "Shahid Afridi Shoaib Malik 115\n",
      "TA Boult TG Southee 116\n",
      "41\n"
     ]
    }
   ],
   "source": [
    "paircnt = 0 \n",
    "for k, v in Bpartners.items():\n",
    "    for name in v:\n",
    "        povercnt = pairdf[k][name].sum()\n",
    "        if (povercnt >= min_pair_overs):\n",
    "            if(k<name):\n",
    "                print(k,name, povercnt)\n",
    "                paircnt += 1\n",
    "print(paircnt)"
   ]
  },
  {
   "cell_type": "code",
   "execution_count": 7,
   "metadata": {},
   "outputs": [
    {
     "name": "stdout",
     "output_type": "stream",
     "text": [
      "53\n",
      "{'AD Mathews': ['NLTC Perera', 'KMDN Kulasekara'], 'AU Rashid': ['MM Ali', 'LE Plunkett'], 'Abdur Razzak': ['Shakib Al Hasan', 'Mahmudullah'], 'B Kumar': ['JJ Bumrah', 'Mohammed Shami'], 'B Lee': ['NW Bracken'], 'CH Gayle': ['DJ Bravo'], 'DJ Bravo': ['CH Gayle', 'DJG Sammy'], 'DJG Sammy': ['DJ Bravo'], 'DL Vettori': ['SB Styris', 'JDP Oram'], 'DW Steyn': ['M Morkel'], 'Dawlat Zadran': ['Mujeeb Ur Rahman'], 'Harbhajan Singh': ['Yuvraj Singh'], 'JDP Oram': ['DL Vettori'], 'JJ Bumrah': ['B Kumar'], 'JM Anderson': ['TT Bresnan', 'SCJ Broad', 'ST Finn'], 'JO Holder': ['SS Cottrell'], 'KD Mills': ['TG Southee'], 'KMDN Kulasekara': ['AD Mathews', 'SL Malinga'], 'LE Plunkett': ['AU Rashid'], 'M Morkel': ['DW Steyn'], 'M Muralitharan': ['ST Jayasuriya'], 'M Ntini': ['SM Pollock'], 'MA Starc': ['JR Hazlewood'], 'MG Johnson': ['SR Watson'], 'MM Ali': ['AU Rashid'], 'Mahmudullah': ['Abdur Razzak', 'Shakib Al Hasan'], 'Mashrafe Mortaza': ['Syed Rasel', 'Shakib Al Hasan', 'Shahadat Hossain', 'Mustafizur Rahman'], 'Mohammad Hafeez': ['Shahid Afridi', 'Saeed Ajmal'], 'Mohammad Nabi': ['Rashid Khan'], 'Mohammed Shami': ['B Kumar'], 'NLTC Perera': ['AD Mathews'], 'NW Bracken': ['B Lee'], 'P Kumar': ['A Nehra'], 'P Utseya': ['RW Price'], 'R Ashwin': ['RA Jadeja'], 'RA Jadeja': ['R Ashwin', 'Kuldeep Yadav'], 'Rubel Hossain': ['Shakib Al Hasan'], 'SC Williams': ['Sikandar Raza'], 'SCJ Broad': ['TT Bresnan', 'JM Anderson'], 'SL Malinga': ['KMDN Kulasekara'], 'SM Pollock': ['M Ntini'], 'SR Watson': ['MG Johnson'], 'ST Finn': ['JM Anderson'], 'Saeed Ajmal': ['Shahid Afridi', 'Mohammad Hafeez'], 'Shahid Afridi': ['Mohammad Hafeez', 'Saeed Ajmal', 'Shoaib Malik'], 'Shakib Al Hasan': ['Mahmudullah', 'Rubel Hossain', 'Mashrafe Mortaza', 'Abdur Razzak'], 'Shoaib Malik': ['Shahid Afridi'], 'TA Boult': ['TG Southee', 'MJ Henry'], 'TG Southee': ['TA Boult', 'KD Mills'], 'TL Chatara': ['T Panyangara'], 'TT Bresnan': ['SCJ Broad', 'JM Anderson'], 'Yuvraj Singh': ['Harbhajan Singh'], 'Z Khan': ['MM Patel']}\n"
     ]
    }
   ],
   "source": [
    "bocnt = 0 \n",
    "Bpartner_qualified = {}\n",
    "for k, v in Bpartners.items():\n",
    "    Bpartner_qualified[k] = []\n",
    "    for name in v:\n",
    "        bocnt = pairdf[k][name].sum()\n",
    "        if (bocnt >= min_pair_overs):\n",
    "            Bpartner_qualified[k].append(name)\n",
    "\n",
    "for k,v in Bpartners.items():\n",
    "    if Bpartner_qualified[k] == []:\n",
    "        del Bpartner_qualified[k]\n",
    "            \n",
    "#Bpartner_qualified\n",
    "print(len(Bpartner_qualified))\n",
    "print(Bpartner_qualified)\n",
    "\n",
    "#Bpartner_qualified.keys()"
   ]
  },
  {
   "cell_type": "code",
   "execution_count": 8,
   "metadata": {},
   "outputs": [
    {
     "data": {
      "text/html": [
       "<div>\n",
       "<style scoped>\n",
       "    .dataframe tbody tr th:only-of-type {\n",
       "        vertical-align: middle;\n",
       "    }\n",
       "\n",
       "    .dataframe tbody tr th {\n",
       "        vertical-align: top;\n",
       "    }\n",
       "\n",
       "    .dataframe thead th {\n",
       "        text-align: right;\n",
       "    }\n",
       "</style>\n",
       "<table border=\"1\" class=\"dataframe\">\n",
       "  <thead>\n",
       "    <tr style=\"text-align: right;\">\n",
       "      <th></th>\n",
       "      <th>runs1</th>\n",
       "      <th>wicket1</th>\n",
       "      <th>over1</th>\n",
       "      <th>bowler1</th>\n",
       "      <th>runs2</th>\n",
       "      <th>wicket2</th>\n",
       "      <th>over2</th>\n",
       "      <th>bowler2</th>\n",
       "    </tr>\n",
       "  </thead>\n",
       "  <tbody>\n",
       "    <tr>\n",
       "      <th>5777</th>\n",
       "      <td>5</td>\n",
       "      <td>0</td>\n",
       "      <td>8</td>\n",
       "      <td>MM Patel</td>\n",
       "      <td>4</td>\n",
       "      <td>0</td>\n",
       "      <td>9</td>\n",
       "      <td>Z Khan</td>\n",
       "    </tr>\n",
       "    <tr>\n",
       "      <th>6286</th>\n",
       "      <td>13</td>\n",
       "      <td>0</td>\n",
       "      <td>2</td>\n",
       "      <td>MM Patel</td>\n",
       "      <td>1</td>\n",
       "      <td>1</td>\n",
       "      <td>3</td>\n",
       "      <td>Z Khan</td>\n",
       "    </tr>\n",
       "    <tr>\n",
       "      <th>6287</th>\n",
       "      <td>6</td>\n",
       "      <td>0</td>\n",
       "      <td>4</td>\n",
       "      <td>MM Patel</td>\n",
       "      <td>9</td>\n",
       "      <td>0</td>\n",
       "      <td>5</td>\n",
       "      <td>Z Khan</td>\n",
       "    </tr>\n",
       "    <tr>\n",
       "      <th>6288</th>\n",
       "      <td>2</td>\n",
       "      <td>0</td>\n",
       "      <td>6</td>\n",
       "      <td>MM Patel</td>\n",
       "      <td>5</td>\n",
       "      <td>0</td>\n",
       "      <td>7</td>\n",
       "      <td>Z Khan</td>\n",
       "    </tr>\n",
       "    <tr>\n",
       "      <th>6995</th>\n",
       "      <td>7</td>\n",
       "      <td>1</td>\n",
       "      <td>45</td>\n",
       "      <td>MM Patel</td>\n",
       "      <td>6</td>\n",
       "      <td>1</td>\n",
       "      <td>46</td>\n",
       "      <td>Z Khan</td>\n",
       "    </tr>\n",
       "    <tr>\n",
       "      <th>6996</th>\n",
       "      <td>5</td>\n",
       "      <td>0</td>\n",
       "      <td>47</td>\n",
       "      <td>MM Patel</td>\n",
       "      <td>4</td>\n",
       "      <td>0</td>\n",
       "      <td>48</td>\n",
       "      <td>Z Khan</td>\n",
       "    </tr>\n",
       "    <tr>\n",
       "      <th>12278</th>\n",
       "      <td>0</td>\n",
       "      <td>0</td>\n",
       "      <td>10</td>\n",
       "      <td>MM Patel</td>\n",
       "      <td>6</td>\n",
       "      <td>0</td>\n",
       "      <td>11</td>\n",
       "      <td>Z Khan</td>\n",
       "    </tr>\n",
       "    <tr>\n",
       "      <th>12279</th>\n",
       "      <td>4</td>\n",
       "      <td>0</td>\n",
       "      <td>12</td>\n",
       "      <td>MM Patel</td>\n",
       "      <td>9</td>\n",
       "      <td>0</td>\n",
       "      <td>13</td>\n",
       "      <td>Z Khan</td>\n",
       "    </tr>\n",
       "    <tr>\n",
       "      <th>12295</th>\n",
       "      <td>11</td>\n",
       "      <td>0</td>\n",
       "      <td>44</td>\n",
       "      <td>MM Patel</td>\n",
       "      <td>3</td>\n",
       "      <td>1</td>\n",
       "      <td>45</td>\n",
       "      <td>Z Khan</td>\n",
       "    </tr>\n",
       "    <tr>\n",
       "      <th>12296</th>\n",
       "      <td>6</td>\n",
       "      <td>0</td>\n",
       "      <td>46</td>\n",
       "      <td>MM Patel</td>\n",
       "      <td>2</td>\n",
       "      <td>1</td>\n",
       "      <td>47</td>\n",
       "      <td>Z Khan</td>\n",
       "    </tr>\n",
       "    <tr>\n",
       "      <th>13739</th>\n",
       "      <td>0</td>\n",
       "      <td>0</td>\n",
       "      <td>24</td>\n",
       "      <td>MM Patel</td>\n",
       "      <td>9</td>\n",
       "      <td>0</td>\n",
       "      <td>25</td>\n",
       "      <td>Z Khan</td>\n",
       "    </tr>\n",
       "    <tr>\n",
       "      <th>29415</th>\n",
       "      <td>0</td>\n",
       "      <td>0</td>\n",
       "      <td>8</td>\n",
       "      <td>MM Patel</td>\n",
       "      <td>2</td>\n",
       "      <td>0</td>\n",
       "      <td>9</td>\n",
       "      <td>Z Khan</td>\n",
       "    </tr>\n",
       "    <tr>\n",
       "      <th>29416</th>\n",
       "      <td>9</td>\n",
       "      <td>0</td>\n",
       "      <td>10</td>\n",
       "      <td>MM Patel</td>\n",
       "      <td>2</td>\n",
       "      <td>0</td>\n",
       "      <td>11</td>\n",
       "      <td>Z Khan</td>\n",
       "    </tr>\n",
       "    <tr>\n",
       "      <th>29425</th>\n",
       "      <td>8</td>\n",
       "      <td>0</td>\n",
       "      <td>28</td>\n",
       "      <td>MM Patel</td>\n",
       "      <td>11</td>\n",
       "      <td>0</td>\n",
       "      <td>29</td>\n",
       "      <td>Z Khan</td>\n",
       "    </tr>\n",
       "    <tr>\n",
       "      <th>30389</th>\n",
       "      <td>4</td>\n",
       "      <td>0</td>\n",
       "      <td>2</td>\n",
       "      <td>MM Patel</td>\n",
       "      <td>6</td>\n",
       "      <td>1</td>\n",
       "      <td>3</td>\n",
       "      <td>Z Khan</td>\n",
       "    </tr>\n",
       "    <tr>\n",
       "      <th>30411</th>\n",
       "      <td>7</td>\n",
       "      <td>0</td>\n",
       "      <td>46</td>\n",
       "      <td>MM Patel</td>\n",
       "      <td>6</td>\n",
       "      <td>1</td>\n",
       "      <td>47</td>\n",
       "      <td>Z Khan</td>\n",
       "    </tr>\n",
       "    <tr>\n",
       "      <th>37020</th>\n",
       "      <td>6</td>\n",
       "      <td>0</td>\n",
       "      <td>2</td>\n",
       "      <td>MM Patel</td>\n",
       "      <td>4</td>\n",
       "      <td>0</td>\n",
       "      <td>3</td>\n",
       "      <td>Z Khan</td>\n",
       "    </tr>\n",
       "    <tr>\n",
       "      <th>37021</th>\n",
       "      <td>0</td>\n",
       "      <td>0</td>\n",
       "      <td>4</td>\n",
       "      <td>MM Patel</td>\n",
       "      <td>2</td>\n",
       "      <td>0</td>\n",
       "      <td>5</td>\n",
       "      <td>Z Khan</td>\n",
       "    </tr>\n",
       "    <tr>\n",
       "      <th>37022</th>\n",
       "      <td>9</td>\n",
       "      <td>1</td>\n",
       "      <td>6</td>\n",
       "      <td>MM Patel</td>\n",
       "      <td>9</td>\n",
       "      <td>0</td>\n",
       "      <td>7</td>\n",
       "      <td>Z Khan</td>\n",
       "    </tr>\n",
       "    <tr>\n",
       "      <th>37023</th>\n",
       "      <td>1</td>\n",
       "      <td>1</td>\n",
       "      <td>8</td>\n",
       "      <td>MM Patel</td>\n",
       "      <td>4</td>\n",
       "      <td>0</td>\n",
       "      <td>9</td>\n",
       "      <td>Z Khan</td>\n",
       "    </tr>\n",
       "    <tr>\n",
       "      <th>37765</th>\n",
       "      <td>3</td>\n",
       "      <td>0</td>\n",
       "      <td>35</td>\n",
       "      <td>MM Patel</td>\n",
       "      <td>9</td>\n",
       "      <td>0</td>\n",
       "      <td>36</td>\n",
       "      <td>Z Khan</td>\n",
       "    </tr>\n",
       "    <tr>\n",
       "      <th>43852</th>\n",
       "      <td>1</td>\n",
       "      <td>0</td>\n",
       "      <td>1</td>\n",
       "      <td>MM Patel</td>\n",
       "      <td>0</td>\n",
       "      <td>1</td>\n",
       "      <td>2</td>\n",
       "      <td>Z Khan</td>\n",
       "    </tr>\n",
       "    <tr>\n",
       "      <th>43853</th>\n",
       "      <td>1</td>\n",
       "      <td>0</td>\n",
       "      <td>3</td>\n",
       "      <td>MM Patel</td>\n",
       "      <td>5</td>\n",
       "      <td>0</td>\n",
       "      <td>4</td>\n",
       "      <td>Z Khan</td>\n",
       "    </tr>\n",
       "    <tr>\n",
       "      <th>43854</th>\n",
       "      <td>0</td>\n",
       "      <td>0</td>\n",
       "      <td>5</td>\n",
       "      <td>MM Patel</td>\n",
       "      <td>1</td>\n",
       "      <td>0</td>\n",
       "      <td>6</td>\n",
       "      <td>Z Khan</td>\n",
       "    </tr>\n",
       "    <tr>\n",
       "      <th>43855</th>\n",
       "      <td>3</td>\n",
       "      <td>0</td>\n",
       "      <td>7</td>\n",
       "      <td>MM Patel</td>\n",
       "      <td>9</td>\n",
       "      <td>0</td>\n",
       "      <td>8</td>\n",
       "      <td>Z Khan</td>\n",
       "    </tr>\n",
       "    <tr>\n",
       "      <th>43856</th>\n",
       "      <td>4</td>\n",
       "      <td>0</td>\n",
       "      <td>9</td>\n",
       "      <td>MM Patel</td>\n",
       "      <td>4</td>\n",
       "      <td>0</td>\n",
       "      <td>10</td>\n",
       "      <td>Z Khan</td>\n",
       "    </tr>\n",
       "    <tr>\n",
       "      <th>43857</th>\n",
       "      <td>6</td>\n",
       "      <td>0</td>\n",
       "      <td>11</td>\n",
       "      <td>MM Patel</td>\n",
       "      <td>10</td>\n",
       "      <td>0</td>\n",
       "      <td>12</td>\n",
       "      <td>Z Khan</td>\n",
       "    </tr>\n",
       "  </tbody>\n",
       "</table>\n",
       "</div>"
      ],
      "text/plain": [
       "       runs1  wicket1  over1   bowler1  runs2  wicket2  over2 bowler2\n",
       "5777       5        0      8  MM Patel      4        0      9  Z Khan\n",
       "6286      13        0      2  MM Patel      1        1      3  Z Khan\n",
       "6287       6        0      4  MM Patel      9        0      5  Z Khan\n",
       "6288       2        0      6  MM Patel      5        0      7  Z Khan\n",
       "6995       7        1     45  MM Patel      6        1     46  Z Khan\n",
       "6996       5        0     47  MM Patel      4        0     48  Z Khan\n",
       "12278      0        0     10  MM Patel      6        0     11  Z Khan\n",
       "12279      4        0     12  MM Patel      9        0     13  Z Khan\n",
       "12295     11        0     44  MM Patel      3        1     45  Z Khan\n",
       "12296      6        0     46  MM Patel      2        1     47  Z Khan\n",
       "13739      0        0     24  MM Patel      9        0     25  Z Khan\n",
       "29415      0        0      8  MM Patel      2        0      9  Z Khan\n",
       "29416      9        0     10  MM Patel      2        0     11  Z Khan\n",
       "29425      8        0     28  MM Patel     11        0     29  Z Khan\n",
       "30389      4        0      2  MM Patel      6        1      3  Z Khan\n",
       "30411      7        0     46  MM Patel      6        1     47  Z Khan\n",
       "37020      6        0      2  MM Patel      4        0      3  Z Khan\n",
       "37021      0        0      4  MM Patel      2        0      5  Z Khan\n",
       "37022      9        1      6  MM Patel      9        0      7  Z Khan\n",
       "37023      1        1      8  MM Patel      4        0      9  Z Khan\n",
       "37765      3        0     35  MM Patel      9        0     36  Z Khan\n",
       "43852      1        0      1  MM Patel      0        1      2  Z Khan\n",
       "43853      1        0      3  MM Patel      5        0      4  Z Khan\n",
       "43854      0        0      5  MM Patel      1        0      6  Z Khan\n",
       "43855      3        0      7  MM Patel      9        0      8  Z Khan\n",
       "43856      4        0      9  MM Patel      4        0     10  Z Khan\n",
       "43857      6        0     11  MM Patel     10        0     12  Z Khan"
      ]
     },
     "execution_count": 8,
     "metadata": {},
     "output_type": "execute_result"
    }
   ],
   "source": [
    "for name in Bpartner_qualified.keys():\n",
    "    dfbowler = og_data.loc[og_data['bowler'] == name]\n",
    "    for pname in Bpartner_qualified[name]:\n",
    "        dfpairab = paired_data.loc[paired_data['bowler1']==name] \n",
    "        dfpairab = dfpairab.loc[dfpairab['bowler2']==pname]\n",
    "        dfpairba = paired_data.loc[paired_data['bowler2']==name]\n",
    "        dfpairba = dfpairba.loc[dfpairba['bowler1']==pname]\n",
    "        break\n",
    "dfpairba"
   ]
  },
  {
   "cell_type": "code",
   "execution_count": 9,
   "metadata": {},
   "outputs": [
    {
     "name": "stdout",
     "output_type": "stream",
     "text": [
      "AD Mathews NLTC Perera\n"
     ]
    },
    {
     "data": {
      "image/png": "[encoded data removed]",
      "text/plain": [
       "<Figure size 432x288 with 1 Axes>"
      ]
     },
     "metadata": {
      "needs_background": "light"
     },
     "output_type": "display_data"
    },
    {
     "name": "stdout",
     "output_type": "stream",
     "text": [
      "Bowler's Economy  :  4.665919282511211\n",
      "Bowlership's Economy  :  4.524590163934426\n",
      "\n",
      "\n",
      "Bowler's Skew     :  1.0110385867571288\n",
      "Bowlership's Skew :  0.018195514816008253\n",
      "Bowler's Kurtosis     :  1.3202787179586695\n",
      "Bowlership's Kurtosis :  -1.608151790622225\n",
      "\n",
      "\n",
      "Greater : Statistics=196.00, p=0.00 \n",
      "Two-Sided : Statistics=196.00, p=0.00 \n",
      "Less : Statistics=196.00, p=1.00 \n",
      "\n",
      "AD Mathews - NLTC Perera better than AD Mathews\n",
      "____________________________________________\n",
      "\n",
      "\n",
      "AD Mathews KMDN Kulasekara\n"
     ]
    },
    {
     "data": {
      "image/png": "[encoded data removed]",
      "text/plain": [
       "<Figure size 432x288 with 1 Axes>"
      ]
     },
     "metadata": {
      "needs_background": "light"
     },
     "output_type": "display_data"
    },
    {
     "name": "stdout",
     "output_type": "stream",
     "text": [
      "Bowler's Economy  :  4.665919282511211\n",
      "Bowlership's Economy  :  4.295081967213115\n",
      "\n",
      "\n",
      "Bowler's Skew     :  1.0110385867571288\n",
      "Bowlership's Skew :  0.341914887681854\n",
      "Bowler's Kurtosis     :  1.3202787179586695\n",
      "Bowlership's Kurtosis :  -1.3491232910057194\n",
      "\n",
      "\n",
      "Greater : Statistics=180.00, p=0.00 \n",
      "Two-Sided : Statistics=180.00, p=0.00 \n",
      "Less : Statistics=180.00, p=1.00 \n",
      "\n",
      "AD Mathews - KMDN Kulasekara better than AD Mathews\n",
      "____________________________________________\n",
      "\n",
      "\n",
      "AU Rashid MM Ali\n"
     ]
    },
    {
     "data": {
      "image/png": "[encoded data removed]",
      "text/plain": [
       "<Figure size 432x288 with 1 Axes>"
      ]
     },
     "metadata": {
      "needs_background": "light"
     },
     "output_type": "display_data"
    },
    {
     "name": "stdout",
     "output_type": "stream",
     "text": [
      "Bowler's Economy  :  5.241228070175438\n",
      "Bowlership's Economy  :  4.92814371257485\n",
      "\n",
      "\n",
      "Bowler's Skew     :  1.8267739763939974\n",
      "Bowlership's Skew :  0.23334728165921062\n",
      "Bowler's Kurtosis     :  7.060467327633118\n",
      "Bowlership's Kurtosis :  -1.4070709050595869\n",
      "\n",
      "\n",
      "Greater : Statistics=158.50, p=0.36 \n",
      "Two-Sided : Statistics=158.50, p=0.71 \n",
      "Less : Statistics=158.50, p=0.66 \n",
      "\n",
      "____________________________________________\n",
      "\n",
      "\n",
      "AU Rashid LE Plunkett\n"
     ]
    },
    {
     "data": {
      "image/png": "[encoded data removed]",
      "text/plain": [
       "<Figure size 432x288 with 1 Axes>"
      ]
     },
     "metadata": {
      "needs_background": "light"
     },
     "output_type": "display_data"
    },
    {
     "name": "stdout",
     "output_type": "stream",
     "text": [
      "Bowler's Economy  :  5.241228070175438\n",
      "Bowlership's Economy  :  5.069444444444445\n",
      "\n",
      "\n",
      "Bowler's Skew     :  1.8267739763939974\n",
      "Bowlership's Skew :  0.6572227104049408\n",
      "Bowler's Kurtosis     :  7.060467327633118\n",
      "Bowlership's Kurtosis :  -0.9486987514089895\n",
      "\n",
      "\n",
      "Greater : Statistics=141.00, p=0.16 \n",
      "Two-Sided : Statistics=141.00, p=0.32 \n",
      "Less : Statistics=141.00, p=0.85 \n",
      "\n",
      "____________________________________________\n",
      "\n",
      "\n",
      "Abdur Razzak Shakib Al Hasan\n"
     ]
    },
    {
     "data": {
      "image/png": "[encoded data removed]",
      "text/plain": [
       "<Figure size 432x288 with 1 Axes>"
      ]
     },
     "metadata": {
      "needs_background": "light"
     },
     "output_type": "display_data"
    },
    {
     "name": "stdout",
     "output_type": "stream",
     "text": [
      "Bowler's Economy  :  4.827882960413081\n",
      "Bowlership's Economy  :  5.253846153846154\n",
      "\n",
      "\n",
      "Bowler's Skew     :  1.055120602195069\n",
      "Bowlership's Skew :  0.9018017852943253\n",
      "Bowler's Kurtosis     :  0.8101451770783199\n",
      "Bowlership's Kurtosis :  -0.6443619970940753\n",
      "\n",
      "\n",
      "Greater : Statistics=242.00, p=0.00 \n",
      "Two-Sided : Statistics=242.00, p=0.00 \n",
      "Less : Statistics=242.00, p=1.00 \n",
      "\n",
      "____________________________________________\n",
      "\n",
      "\n",
      "Abdur Razzak Mahmudullah\n"
     ]
    },
    {
     "data": {
      "image/png": "[encoded data removed]",
      "text/plain": [
       "<Figure size 432x288 with 1 Axes>"
      ]
     },
     "metadata": {
      "needs_background": "light"
     },
     "output_type": "display_data"
    },
    {
     "name": "stdout",
     "output_type": "stream",
     "text": [
      "Bowler's Economy  :  4.827882960413081\n",
      "Bowlership's Economy  :  4.5588235294117645\n",
      "\n",
      "\n",
      "Bowler's Skew     :  1.055120602195069\n",
      "Bowlership's Skew :  0.4974072924019988\n",
      "Bowler's Kurtosis     :  0.8101451770783199\n",
      "Bowlership's Kurtosis :  -0.8858941280620627\n",
      "\n",
      "\n",
      "Greater : Statistics=199.50, p=0.00 \n",
      "Two-Sided : Statistics=199.50, p=0.00 \n",
      "Less : Statistics=199.50, p=1.00 \n",
      "\n",
      "Abdur Razzak - Mahmudullah better than Abdur Razzak\n",
      "____________________________________________\n",
      "\n",
      "\n",
      "B Kumar JJ Bumrah\n"
     ]
    },
    {
     "data": {
      "image/png": "[encoded data removed]",
      "text/plain": [
       "<Figure size 432x288 with 1 Axes>"
      ]
     },
     "metadata": {
      "needs_background": "light"
     },
     "output_type": "display_data"
    },
    {
     "name": "stdout",
     "output_type": "stream",
     "text": [
      "Bowler's Economy  :  5.1016260162601625\n",
      "Bowlership's Economy  :  5.355371900826446\n",
      "\n",
      "\n",
      "Bowler's Skew     :  1.1102915107897142\n",
      "Bowlership's Skew :  0.08333519138973158\n",
      "Bowler's Kurtosis     :  1.7094212352435871\n",
      "Bowlership's Kurtosis :  -1.5135737643050842\n",
      "\n",
      "\n",
      "Greater : Statistics=227.50, p=0.06 \n",
      "Two-Sided : Statistics=227.50, p=0.13 \n",
      "Less : Statistics=227.50, p=0.94 \n",
      "\n",
      "____________________________________________\n",
      "\n",
      "\n",
      "B Kumar Mohammed Shami\n"
     ]
    },
    {
     "data": {
      "image/png": "[encoded data removed]",
      "text/plain": [
       "<Figure size 432x288 with 1 Axes>"
      ]
     },
     "metadata": {
      "needs_background": "light"
     },
     "output_type": "display_data"
    },
    {
     "name": "stdout",
     "output_type": "stream",
     "text": [
      "Bowler's Economy  :  5.1016260162601625\n",
      "Bowlership's Economy  :  4.71578947368421\n",
      "\n",
      "\n",
      "Bowler's Skew     :  1.1102915107897142\n",
      "Bowlership's Skew :  0.6477991585666865\n",
      "Bowler's Kurtosis     :  1.7094212352435871\n",
      "Bowlership's Kurtosis :  -0.2947177709191653\n",
      "\n",
      "\n",
      "Greater : Statistics=241.00, p=0.03 \n",
      "Two-Sided : Statistics=241.00, p=0.05 \n",
      "Less : Statistics=241.00, p=0.97 \n",
      "\n",
      "____________________________________________\n",
      "\n",
      "\n",
      "B Lee NW Bracken\n"
     ]
    },
    {
     "data": {
      "image/png": "[encoded data removed]",
      "text/plain": [
       "<Figure size 432x288 with 1 Axes>"
      ]
     },
     "metadata": {
      "needs_background": "light"
     },
     "output_type": "display_data"
    },
    {
     "name": "stdout",
     "output_type": "stream",
     "text": [
      "Bowler's Economy  :  5.043280182232346\n",
      "Bowlership's Economy  :  5.538461538461538\n",
      "\n",
      "\n",
      "Bowler's Skew     :  0.9687068539876721\n",
      "Bowlership's Skew :  1.1328254955324475\n",
      "Bowler's Kurtosis     :  0.7063840471418397\n",
      "Bowlership's Kurtosis :  0.03683235242701466\n",
      "\n",
      "\n",
      "Greater : Statistics=236.00, p=0.01 \n",
      "Two-Sided : Statistics=236.00, p=0.02 \n",
      "Less : Statistics=236.00, p=0.99 \n",
      "\n",
      "____________________________________________\n",
      "\n",
      "\n",
      "CH Gayle DJ Bravo\n"
     ]
    },
    {
     "data": {
      "image/png": "[encoded data removed]",
      "text/plain": [
       "<Figure size 432x288 with 1 Axes>"
      ]
     },
     "metadata": {
      "needs_background": "light"
     },
     "output_type": "display_data"
    },
    {
     "name": "stdout",
     "output_type": "stream",
     "text": [
      "Bowler's Economy  :  4.994301994301995\n",
      "Bowlership's Economy  :  5.078125\n",
      "\n",
      "\n",
      "Bowler's Skew     :  1.218925861815921\n",
      "Bowlership's Skew :  0.9065251402677595\n",
      "Bowler's Kurtosis     :  2.6408583290671057\n",
      "Bowlership's Kurtosis :  -0.7952122408005526\n",
      "\n",
      "\n",
      "Greater : Statistics=197.00, p=0.01 \n",
      "Two-Sided : Statistics=197.00, p=0.02 \n",
      "Less : Statistics=197.00, p=0.99 \n",
      "\n",
      "____________________________________________\n",
      "\n",
      "\n",
      "DJ Bravo CH Gayle\n"
     ]
    },
    {
     "data": {
      "image/png": "[encoded data removed]",
      "text/plain": [
       "<Figure size 432x288 with 1 Axes>"
      ]
     },
     "metadata": {
      "needs_background": "light"
     },
     "output_type": "display_data"
    },
    {
     "name": "stdout",
     "output_type": "stream",
     "text": [
      "Bowler's Economy  :  5.366852886405959\n",
      "Bowlership's Economy  :  5.078125\n",
      "\n",
      "\n",
      "Bowler's Skew     :  0.9496024112720515\n",
      "Bowlership's Skew :  0.6140167611865108\n",
      "Bowler's Kurtosis     :  0.9336020489636376\n",
      "Bowlership's Kurtosis :  -0.22264974022154682\n",
      "\n",
      "\n",
      "Greater : Statistics=220.50, p=0.00 \n",
      "Two-Sided : Statistics=220.50, p=0.01 \n",
      "Less : Statistics=220.50, p=1.00 \n",
      "\n",
      "DJ Bravo - CH Gayle better than DJ Bravo\n",
      "____________________________________________\n",
      "\n",
      "\n",
      "DJ Bravo DJG Sammy\n"
     ]
    },
    {
     "data": {
      "image/png": "[encoded data removed]",
      "text/plain": [
       "<Figure size 432x288 with 1 Axes>"
      ]
     },
     "metadata": {
      "needs_background": "light"
     },
     "output_type": "display_data"
    },
    {
     "name": "stdout",
     "output_type": "stream",
     "text": [
      "Bowler's Economy  :  5.366852886405959\n",
      "Bowlership's Economy  :  4.253731343283582\n",
      "\n",
      "\n",
      "Bowler's Skew     :  0.9496024112720515\n",
      "Bowlership's Skew :  -0.41858142334932236\n",
      "Bowler's Kurtosis     :  0.9336020489636376\n",
      "Bowlership's Kurtosis :  -1.298965972685557\n",
      "\n",
      "\n",
      "Greater : Statistics=186.00, p=0.01 \n",
      "Two-Sided : Statistics=186.00, p=0.01 \n",
      "Less : Statistics=186.00, p=1.00 \n",
      "\n",
      "DJ Bravo - DJG Sammy better than DJ Bravo\n",
      "____________________________________________\n",
      "\n",
      "\n",
      "DJG Sammy DJ Bravo\n"
     ]
    },
    {
     "data": {
      "image/png": "[encoded data removed]",
      "text/plain": [
       "<Figure size 432x288 with 1 Axes>"
      ]
     },
     "metadata": {
      "needs_background": "light"
     },
     "output_type": "display_data"
    },
    {
     "name": "stdout",
     "output_type": "stream",
     "text": [
      "Bowler's Economy  :  4.773972602739726\n",
      "Bowlership's Economy  :  4.388059701492537\n",
      "\n",
      "\n",
      "Bowler's Skew     :  1.0517542532530535\n",
      "Bowlership's Skew :  0.5185214690579237\n",
      "Bowler's Kurtosis     :  1.7914708492390243\n",
      "Bowlership's Kurtosis :  -1.1402346549991564\n",
      "\n",
      "\n",
      "Greater : Statistics=155.50, p=0.02 \n",
      "Two-Sided : Statistics=155.50, p=0.05 \n",
      "Less : Statistics=155.50, p=0.98 \n",
      "\n",
      "DJG Sammy - DJ Bravo better than DJG Sammy\n",
      "____________________________________________\n",
      "\n",
      "\n",
      "DL Vettori SB Styris\n"
     ]
    },
    {
     "data": {
      "image/png": "[encoded data removed]",
      "text/plain": [
       "<Figure size 432x288 with 1 Axes>"
      ]
     },
     "metadata": {
      "needs_background": "light"
     },
     "output_type": "display_data"
    },
    {
     "name": "stdout",
     "output_type": "stream",
     "text": [
      "Bowler's Economy  :  3.906779661016949\n",
      "Bowlership's Economy  :  4.2298850574712645\n",
      "\n",
      "\n",
      "Bowler's Skew     :  1.2013613577191795\n",
      "Bowlership's Skew :  1.4231393517325812\n",
      "Bowler's Kurtosis     :  1.9322362434101317\n",
      "Bowlership's Kurtosis :  1.2749260537542062\n",
      "\n",
      "\n",
      "Greater : Statistics=174.00, p=0.01 \n",
      "Two-Sided : Statistics=174.00, p=0.03 \n",
      "Less : Statistics=174.00, p=0.99 \n",
      "\n",
      "____________________________________________\n",
      "\n",
      "\n",
      "DL Vettori JDP Oram\n"
     ]
    },
    {
     "data": {
      "image/png": "[encoded data removed]",
      "text/plain": [
       "<Figure size 432x288 with 1 Axes>"
      ]
     },
     "metadata": {
      "needs_background": "light"
     },
     "output_type": "display_data"
    },
    {
     "name": "stdout",
     "output_type": "stream",
     "text": [
      "Bowler's Economy  :  3.906779661016949\n",
      "Bowlership's Economy  :  3.772727272727273\n",
      "\n",
      "\n",
      "Bowler's Skew     :  1.2013613577191795\n",
      "Bowlership's Skew :  0.39146892028256736\n",
      "Bowler's Kurtosis     :  1.9322362434101317\n",
      "Bowlership's Kurtosis :  -1.4318236731187413\n",
      "\n",
      "\n",
      "Greater : Statistics=154.50, p=0.01 \n",
      "Two-Sided : Statistics=154.50, p=0.02 \n",
      "Less : Statistics=154.50, p=0.99 \n",
      "\n",
      "DL Vettori - JDP Oram better than DL Vettori\n",
      "____________________________________________\n",
      "\n",
      "\n",
      "DW Steyn M Morkel\n"
     ]
    },
    {
     "data": {
      "image/png": "[encoded data removed]",
      "text/plain": [
       "<Figure size 432x288 with 1 Axes>"
      ]
     },
     "metadata": {
      "needs_background": "light"
     },
     "output_type": "display_data"
    },
    {
     "name": "stdout",
     "output_type": "stream",
     "text": [
      "Bowler's Economy  :  5.187134502923977\n",
      "Bowlership's Economy  :  5.394366197183099\n",
      "\n",
      "\n",
      "Bowler's Skew     :  1.2156753852884854\n",
      "Bowlership's Skew :  0.33346096214923304\n",
      "Bowler's Kurtosis     :  1.8583817108750722\n",
      "Bowlership's Kurtosis :  -1.2616350918996004\n",
      "\n",
      "\n",
      "Greater : Statistics=241.50, p=0.00 \n",
      "Two-Sided : Statistics=241.50, p=0.01 \n",
      "Less : Statistics=241.50, p=1.00 \n",
      "\n",
      "____________________________________________\n",
      "\n",
      "\n",
      "Dawlat Zadran Mujeeb Ur Rahman\n"
     ]
    },
    {
     "data": {
      "image/png": "[encoded data removed]",
      "text/plain": [
       "<Figure size 432x288 with 1 Axes>"
      ]
     },
     "metadata": {
      "needs_background": "light"
     },
     "output_type": "display_data"
    },
    {
     "name": "stdout",
     "output_type": "stream",
     "text": [
      "Bowler's Economy  :  5.7574750830564785\n",
      "Bowlership's Economy  :  4.892307692307693\n",
      "\n",
      "\n",
      "Bowler's Skew     :  1.0247375001209598\n",
      "Bowlership's Skew :  -0.03574369263772835\n",
      "Bowler's Kurtosis     :  1.1721550482815744\n",
      "Bowlership's Kurtosis :  -1.587784918133409\n",
      "\n",
      "\n",
      "Greater : Statistics=212.00, p=0.06 \n",
      "Two-Sided : Statistics=212.00, p=0.11 \n",
      "Less : Statistics=212.00, p=0.95 \n",
      "\n",
      "____________________________________________\n",
      "\n",
      "\n",
      "Harbhajan Singh Yuvraj Singh\n"
     ]
    },
    {
     "data": {
      "image/png": "[encoded data removed]",
      "text/plain": [
       "<Figure size 432x288 with 1 Axes>"
      ]
     },
     "metadata": {
      "needs_background": "light"
     },
     "output_type": "display_data"
    },
    {
     "name": "stdout",
     "output_type": "stream",
     "text": [
      "Bowler's Economy  :  4.453310696095077\n",
      "Bowlership's Economy  :  4.311827956989247\n",
      "\n",
      "\n",
      "Bowler's Skew     :  1.0044452144780482\n",
      "Bowlership's Skew :  0.8312024975142317\n",
      "Bowler's Kurtosis     :  1.2973370558248547\n",
      "Bowlership's Kurtosis :  0.09811328950974918\n",
      "\n",
      "\n",
      "Greater : Statistics=129.50, p=0.05 \n",
      "Two-Sided : Statistics=129.50, p=0.09 \n",
      "Less : Statistics=129.50, p=0.96 \n",
      "\n",
      "____________________________________________\n",
      "\n",
      "\n",
      "JDP Oram DL Vettori\n"
     ]
    },
    {
     "data": {
      "image/png": "[encoded data removed]",
      "text/plain": [
       "<Figure size 432x288 with 1 Axes>"
      ]
     },
     "metadata": {
      "needs_background": "light"
     },
     "output_type": "display_data"
    },
    {
     "name": "stdout",
     "output_type": "stream",
     "text": [
      "Bowler's Economy  :  4.471875\n",
      "Bowlership's Economy  :  3.803030303030303\n",
      "\n",
      "\n",
      "Bowler's Skew     :  1.2810354468982592\n",
      "Bowlership's Skew :  0.6292853089020909\n",
      "Bowler's Kurtosis     :  2.579729646998419\n",
      "Bowlership's Kurtosis :  -1.1059374999999998\n",
      "\n",
      "\n",
      "Greater : Statistics=128.50, p=0.10 \n",
      "Two-Sided : Statistics=128.50, p=0.19 \n",
      "Less : Statistics=128.50, p=0.91 \n",
      "\n",
      "____________________________________________\n",
      "\n",
      "\n",
      "JJ Bumrah B Kumar\n"
     ]
    },
    {
     "data": {
      "image/png": "[encoded data removed]",
      "text/plain": [
       "<Figure size 432x288 with 1 Axes>"
      ]
     },
     "metadata": {
      "needs_background": "light"
     },
     "output_type": "display_data"
    },
    {
     "name": "stdout",
     "output_type": "stream",
     "text": [
      "Bowler's Economy  :  4.604519774011299\n",
      "Bowlership's Economy  :  4.619834710743802\n",
      "\n",
      "\n",
      "Bowler's Skew     :  0.9724261975240793\n",
      "Bowlership's Skew :  0.5083825597294398\n",
      "Bowler's Kurtosis     :  0.671604060851287\n",
      "Bowlership's Kurtosis :  -1.143677971963656\n",
      "\n",
      "\n",
      "Greater : Statistics=196.00, p=0.02 \n",
      "Two-Sided : Statistics=196.00, p=0.03 \n",
      "Less : Statistics=196.00, p=0.99 \n",
      "\n",
      "____________________________________________\n",
      "\n",
      "\n",
      "JM Anderson TT Bresnan\n"
     ]
    },
    {
     "data": {
      "image/png": "[encoded data removed]",
      "text/plain": [
       "<Figure size 432x288 with 1 Axes>"
      ]
     },
     "metadata": {
      "needs_background": "light"
     },
     "output_type": "display_data"
    },
    {
     "name": "stdout",
     "output_type": "stream",
     "text": [
      "Bowler's Economy  :  4.9586894586894585\n",
      "Bowlership's Economy  :  5.232558139534884\n",
      "\n",
      "\n",
      "Bowler's Skew     :  1.0716982146971454\n",
      "Bowlership's Skew :  0.6427458700558282\n",
      "Bowler's Kurtosis     :  1.3586880405218293\n",
      "Bowlership's Kurtosis :  -1.1177973922186109\n",
      "\n",
      "\n",
      "Greater : Statistics=275.50, p=0.00 \n",
      "Two-Sided : Statistics=275.50, p=0.00 \n",
      "Less : Statistics=275.50, p=1.00 \n",
      "\n",
      "____________________________________________\n",
      "\n",
      "\n",
      "JM Anderson SCJ Broad\n"
     ]
    },
    {
     "data": {
      "image/png": "[encoded data removed]",
      "text/plain": [
       "<Figure size 432x288 with 1 Axes>"
      ]
     },
     "metadata": {
      "needs_background": "light"
     },
     "output_type": "display_data"
    },
    {
     "name": "stdout",
     "output_type": "stream",
     "text": [
      "Bowler's Economy  :  4.9586894586894585\n",
      "Bowlership's Economy  :  4.945783132530121\n",
      "\n",
      "\n",
      "Bowler's Skew     :  1.0716982146971454\n",
      "Bowlership's Skew :  0.29928202035527934\n",
      "Bowler's Kurtosis     :  1.3586880405218293\n",
      "Bowlership's Kurtosis :  -1.503511651389879\n",
      "\n",
      "\n",
      "Greater : Statistics=248.00, p=0.02 \n",
      "Two-Sided : Statistics=248.00, p=0.04 \n",
      "Less : Statistics=248.00, p=0.98 \n",
      "\n",
      "JM Anderson - SCJ Broad better than JM Anderson\n",
      "____________________________________________\n",
      "\n",
      "\n",
      "JM Anderson ST Finn\n"
     ]
    },
    {
     "data": {
      "image/png": "[encoded data removed]",
      "text/plain": [
       "<Figure size 432x288 with 1 Axes>"
      ]
     },
     "metadata": {
      "needs_background": "light"
     },
     "output_type": "display_data"
    },
    {
     "name": "stdout",
     "output_type": "stream",
     "text": [
      "Bowler's Economy  :  4.9586894586894585\n",
      "Bowlership's Economy  :  3.5555555555555554\n",
      "\n",
      "\n",
      "Bowler's Skew     :  1.0716982146971454\n",
      "Bowlership's Skew :  0.453619117923643\n",
      "Bowler's Kurtosis     :  1.3586880405218293\n",
      "Bowlership's Kurtosis :  -1.3301667298870816\n",
      "\n",
      "\n",
      "Greater : Statistics=211.00, p=0.00 \n",
      "Two-Sided : Statistics=211.00, p=0.01 \n",
      "Less : Statistics=211.00, p=1.00 \n",
      "\n",
      "JM Anderson - ST Finn better than JM Anderson\n",
      "____________________________________________\n",
      "\n",
      "\n",
      "JO Holder SS Cottrell\n"
     ]
    },
    {
     "data": {
      "image/png": "[encoded data removed]",
      "text/plain": [
       "<Figure size 432x288 with 1 Axes>"
      ]
     },
     "metadata": {
      "needs_background": "light"
     },
     "output_type": "display_data"
    },
    {
     "name": "stdout",
     "output_type": "stream",
     "text": [
      "Bowler's Economy  :  5.630057803468208\n",
      "Bowlership's Economy  :  5.571428571428571\n",
      "\n",
      "\n",
      "Bowler's Skew     :  1.8345121859496107\n",
      "Bowlership's Skew :  0.6105265516415441\n",
      "Bowler's Kurtosis     :  5.457465601701189\n",
      "Bowlership's Kurtosis :  -0.8131732840874113\n",
      "\n",
      "\n",
      "Greater : Statistics=231.00, p=0.13 \n",
      "Two-Sided : Statistics=231.00, p=0.25 \n",
      "Less : Statistics=231.00, p=0.88 \n",
      "\n",
      "____________________________________________\n",
      "\n",
      "\n",
      "KD Mills TG Southee\n"
     ]
    },
    {
     "data": {
      "image/png": "[encoded data removed]",
      "text/plain": [
       "<Figure size 432x288 with 1 Axes>"
      ]
     },
     "metadata": {
      "needs_background": "light"
     },
     "output_type": "display_data"
    },
    {
     "name": "stdout",
     "output_type": "stream",
     "text": [
      "Bowler's Economy  :  4.748\n",
      "Bowlership's Economy  :  4.369047619047619\n",
      "\n",
      "\n",
      "Bowler's Skew     :  1.2258478223314155\n",
      "Bowlership's Skew :  0.9184832694759986\n",
      "Bowler's Kurtosis     :  1.492062225601769\n",
      "Bowlership's Kurtosis :  -0.6550191385925013\n",
      "\n",
      "\n",
      "Greater : Statistics=265.50, p=0.01 \n",
      "Two-Sided : Statistics=265.50, p=0.01 \n",
      "Less : Statistics=265.50, p=1.00 \n",
      "\n",
      "KD Mills - TG Southee better than KD Mills\n",
      "____________________________________________\n",
      "\n",
      "\n",
      "KMDN Kulasekara AD Mathews\n"
     ]
    },
    {
     "data": {
      "image/png": "[encoded data removed]",
      "text/plain": [
       "<Figure size 432x288 with 1 Axes>"
      ]
     },
     "metadata": {
      "needs_background": "light"
     },
     "output_type": "display_data"
    },
    {
     "name": "stdout",
     "output_type": "stream",
     "text": [
      "Bowler's Economy  :  5.020700636942675\n",
      "Bowlership's Economy  :  4.573770491803279\n",
      "\n",
      "\n",
      "Bowler's Skew     :  0.9077279605780182\n",
      "Bowlership's Skew :  1.1291763160457744\n",
      "Bowler's Kurtosis     :  0.7544421266592085\n",
      "Bowlership's Kurtosis :  0.4010125227620591\n",
      "\n",
      "\n",
      "Greater : Statistics=241.00, p=0.00 \n",
      "Two-Sided : Statistics=241.00, p=0.00 \n",
      "Less : Statistics=241.00, p=1.00 \n",
      "\n",
      "KMDN Kulasekara - AD Mathews better than KMDN Kulasekara\n",
      "____________________________________________\n",
      "\n",
      "\n",
      "KMDN Kulasekara SL Malinga\n"
     ]
    },
    {
     "data": {
      "image/png": "[encoded data removed]",
      "text/plain": [
       "<Figure size 432x288 with 1 Axes>"
      ]
     },
     "metadata": {
      "needs_background": "light"
     },
     "output_type": "display_data"
    },
    {
     "name": "stdout",
     "output_type": "stream",
     "text": [
      "Bowler's Economy  :  5.020700636942675\n",
      "Bowlership's Economy  :  5.162650602409639\n",
      "\n",
      "\n",
      "Bowler's Skew     :  0.9077279605780182\n",
      "Bowlership's Skew :  0.1995279327433778\n",
      "Bowler's Kurtosis     :  0.7544421266592085\n",
      "Bowlership's Kurtosis :  -1.4486095325910944\n",
      "\n",
      "\n",
      "Greater : Statistics=234.00, p=0.03 \n",
      "Two-Sided : Statistics=234.00, p=0.05 \n",
      "Less : Statistics=234.00, p=0.98 \n",
      "\n",
      "____________________________________________\n",
      "\n",
      "\n",
      "LE Plunkett AU Rashid\n"
     ]
    },
    {
     "data": {
      "image/png": "[encoded data removed]",
      "text/plain": [
       "<Figure size 432x288 with 1 Axes>"
      ]
     },
     "metadata": {
      "needs_background": "light"
     },
     "output_type": "display_data"
    },
    {
     "name": "stdout",
     "output_type": "stream",
     "text": [
      "Bowler's Economy  :  6.207386363636363\n",
      "Bowlership's Economy  :  5.680555555555555\n",
      "\n",
      "\n",
      "Bowler's Skew     :  1.1945145648233682\n",
      "Bowlership's Skew :  0.41083353689186053\n",
      "Bowler's Kurtosis     :  2.2219690453862615\n",
      "Bowlership's Kurtosis :  -0.4876555020653881\n",
      "\n",
      "\n",
      "Greater : Statistics=178.00, p=0.12 \n",
      "Two-Sided : Statistics=178.00, p=0.24 \n",
      "Less : Statistics=178.00, p=0.89 \n",
      "\n",
      "____________________________________________\n",
      "\n",
      "\n",
      "M Morkel DW Steyn\n"
     ]
    },
    {
     "data": {
      "image/png": "[encoded data removed]",
      "text/plain": [
       "<Figure size 432x288 with 1 Axes>"
      ]
     },
     "metadata": {
      "needs_background": "light"
     },
     "output_type": "display_data"
    },
    {
     "name": "stdout",
     "output_type": "stream",
     "text": [
      "Bowler's Economy  :  5.225321888412017\n",
      "Bowlership's Economy  :  5.732394366197183\n",
      "\n",
      "\n",
      "Bowler's Skew     :  0.7859628572467524\n",
      "Bowlership's Skew :  0.6698929917924585\n",
      "Bowler's Kurtosis     :  0.19814241954435108\n",
      "Bowlership's Kurtosis :  -0.8776593740080298\n",
      "\n",
      "\n",
      "Greater : Statistics=240.00, p=0.00 \n",
      "Two-Sided : Statistics=240.00, p=0.00 \n",
      "Less : Statistics=240.00, p=1.00 \n",
      "\n",
      "____________________________________________\n",
      "\n",
      "\n",
      "M Muralitharan ST Jayasuriya\n"
     ]
    },
    {
     "data": {
      "image/png": "[encoded data removed]",
      "text/plain": [
       "<Figure size 432x288 with 1 Axes>"
      ]
     },
     "metadata": {
      "needs_background": "light"
     },
     "output_type": "display_data"
    },
    {
     "name": "stdout",
     "output_type": "stream",
     "text": [
      "Bowler's Economy  :  4.466850828729282\n",
      "Bowlership's Economy  :  4.327868852459017\n",
      "\n",
      "\n",
      "Bowler's Skew     :  1.2970727422456905\n",
      "Bowlership's Skew :  0.9178263541846196\n",
      "Bowler's Kurtosis     :  3.1640433459313897\n",
      "Bowlership's Kurtosis :  -0.3732895933789915\n",
      "\n",
      "\n",
      "Greater : Statistics=152.00, p=0.00 \n",
      "Two-Sided : Statistics=152.00, p=0.01 \n",
      "Less : Statistics=152.00, p=1.00 \n",
      "\n",
      "M Muralitharan - ST Jayasuriya better than M Muralitharan\n",
      "____________________________________________\n",
      "\n",
      "\n",
      "M Ntini SM Pollock\n"
     ]
    },
    {
     "data": {
      "image/png": "[encoded data removed]",
      "text/plain": [
       "<Figure size 432x288 with 1 Axes>"
      ]
     },
     "metadata": {
      "needs_background": "light"
     },
     "output_type": "display_data"
    },
    {
     "name": "stdout",
     "output_type": "stream",
     "text": [
      "Bowler's Economy  :  4.978851963746224\n",
      "Bowlership's Economy  :  4.012658227848101\n",
      "\n",
      "\n",
      "Bowler's Skew     :  0.9657108001095487\n",
      "Bowlership's Skew :  0.4572280285192063\n",
      "Bowler's Kurtosis     :  0.893321279534617\n",
      "Bowlership's Kurtosis :  -1.0077368341618167\n",
      "\n",
      "\n",
      "Greater : Statistics=163.50, p=0.21 \n",
      "Two-Sided : Statistics=163.50, p=0.42 \n",
      "Less : Statistics=163.50, p=0.80 \n",
      "\n",
      "____________________________________________\n",
      "\n",
      "\n",
      "MA Starc JR Hazlewood\n"
     ]
    },
    {
     "data": {
      "image/png": "[encoded data removed]",
      "text/plain": [
       "<Figure size 432x288 with 1 Axes>"
      ]
     },
     "metadata": {
      "needs_background": "light"
     },
     "output_type": "display_data"
    },
    {
     "name": "stdout",
     "output_type": "stream",
     "text": [
      "Bowler's Economy  :  5.3\n",
      "Bowlership's Economy  :  5.083333333333333\n",
      "\n",
      "\n",
      "Bowler's Skew     :  0.8320028530302256\n",
      "Bowlership's Skew :  0.276287454838211\n",
      "Bowler's Kurtosis     :  0.7486743681056294\n",
      "Bowlership's Kurtosis :  -1.1475826446281\n",
      "\n",
      "\n",
      "Greater : Statistics=190.50, p=0.01 \n",
      "Two-Sided : Statistics=190.50, p=0.01 \n",
      "Less : Statistics=190.50, p=0.99 \n",
      "\n",
      "MA Starc - JR Hazlewood better than MA Starc\n",
      "____________________________________________\n",
      "\n",
      "\n",
      "MG Johnson SR Watson\n"
     ]
    },
    {
     "data": {
      "image/png": "[encoded data removed]",
      "text/plain": [
       "<Figure size 432x288 with 1 Axes>"
      ]
     },
     "metadata": {
      "needs_background": "light"
     },
     "output_type": "display_data"
    },
    {
     "name": "stdout",
     "output_type": "stream",
     "text": [
      "Bowler's Economy  :  4.7894736842105265\n",
      "Bowlership's Economy  :  5.421875\n",
      "\n",
      "\n",
      "Bowler's Skew     :  1.0374623657557176\n",
      "Bowlership's Skew :  1.5920548442385765\n",
      "Bowler's Kurtosis     :  1.8075469724240154\n",
      "Bowlership's Kurtosis :  1.224196422749733\n",
      "\n",
      "\n",
      "Greater : Statistics=209.50, p=0.02 \n",
      "Two-Sided : Statistics=209.50, p=0.05 \n",
      "Less : Statistics=209.50, p=0.98 \n",
      "\n",
      "____________________________________________\n",
      "\n",
      "\n",
      "MM Ali AU Rashid\n"
     ]
    },
    {
     "data": {
      "image/png": "[encoded data removed]",
      "text/plain": [
       "<Figure size 432x288 with 1 Axes>"
      ]
     },
     "metadata": {
      "needs_background": "light"
     },
     "output_type": "display_data"
    },
    {
     "name": "stdout",
     "output_type": "stream",
     "text": [
      "Bowler's Economy  :  5.057522123893805\n",
      "Bowlership's Economy  :  5.017964071856287\n",
      "\n",
      "\n",
      "Bowler's Skew     :  1.8508751942437238\n",
      "Bowlership's Skew :  0.5102143119828672\n",
      "Bowler's Kurtosis     :  6.67669892779344\n",
      "Bowlership's Kurtosis :  -1.035253077704139\n",
      "\n",
      "\n",
      "Greater : Statistics=174.50, p=0.30 \n",
      "Two-Sided : Statistics=174.50, p=0.59 \n",
      "Less : Statistics=174.50, p=0.71 \n",
      "\n",
      "____________________________________________\n",
      "\n",
      "\n",
      "Mahmudullah Abdur Razzak\n"
     ]
    },
    {
     "data": {
      "image/png": "[encoded data removed]",
      "text/plain": [
       "<Figure size 432x288 with 1 Axes>"
      ]
     },
     "metadata": {
      "needs_background": "light"
     },
     "output_type": "display_data"
    },
    {
     "name": "stdout",
     "output_type": "stream",
     "text": [
      "Bowler's Economy  :  5.30327868852459\n",
      "Bowlership's Economy  :  4.9411764705882355\n",
      "\n",
      "\n",
      "Bowler's Skew     :  1.1816082801376322\n",
      "Bowlership's Skew :  1.135174750891198\n",
      "Bowler's Kurtosis     :  1.8034893983631877\n",
      "Bowlership's Kurtosis :  0.480619055750656\n",
      "\n",
      "\n",
      "Greater : Statistics=180.50, p=0.01 \n",
      "Two-Sided : Statistics=180.50, p=0.03 \n",
      "Less : Statistics=180.50, p=0.99 \n",
      "\n",
      "Mahmudullah - Abdur Razzak better than Mahmudullah\n",
      "____________________________________________\n",
      "\n",
      "\n",
      "Mahmudullah Shakib Al Hasan\n"
     ]
    },
    {
     "data": {
      "image/png": "[encoded data removed]",
      "text/plain": [
       "<Figure size 432x288 with 1 Axes>"
      ]
     },
     "metadata": {
      "needs_background": "light"
     },
     "output_type": "display_data"
    },
    {
     "name": "stdout",
     "output_type": "stream",
     "text": [
      "Bowler's Economy  :  5.30327868852459\n",
      "Bowlership's Economy  :  5.393258426966292\n",
      "\n",
      "\n",
      "Bowler's Skew     :  1.1816082801376322\n",
      "Bowlership's Skew :  0.9072160561082353\n",
      "Bowler's Kurtosis     :  1.8034893983631877\n",
      "Bowlership's Kurtosis :  -0.4344318560335907\n",
      "\n",
      "\n",
      "Greater : Statistics=198.00, p=0.03 \n",
      "Two-Sided : Statistics=198.00, p=0.06 \n",
      "Less : Statistics=198.00, p=0.97 \n",
      "\n",
      "____________________________________________\n",
      "\n",
      "\n",
      "Mashrafe Mortaza Syed Rasel\n"
     ]
    },
    {
     "data": {
      "image/png": "[encoded data removed]",
      "text/plain": [
       "<Figure size 432x288 with 1 Axes>"
      ]
     },
     "metadata": {
      "needs_background": "light"
     },
     "output_type": "display_data"
    },
    {
     "name": "stdout",
     "output_type": "stream",
     "text": [
      "Bowler's Economy  :  5.228179551122195\n",
      "Bowlership's Economy  :  3.7162162162162162\n",
      "\n",
      "\n",
      "Bowler's Skew     :  0.9824863606959063\n",
      "Bowlership's Skew :  0.13023297680704546\n",
      "Bowler's Kurtosis     :  1.1255348403647476\n",
      "Bowlership's Kurtosis :  -1.4935164980386724\n",
      "\n",
      "\n",
      "Greater : Statistics=193.50, p=0.01 \n",
      "Two-Sided : Statistics=193.50, p=0.01 \n",
      "Less : Statistics=193.50, p=0.99 \n",
      "\n",
      "Mashrafe Mortaza - Syed Rasel better than Mashrafe Mortaza\n",
      "____________________________________________\n",
      "\n",
      "\n",
      "Mashrafe Mortaza Shakib Al Hasan\n"
     ]
    },
    {
     "data": {
      "image/png": "[encoded data removed]",
      "text/plain": [
       "<Figure size 432x288 with 1 Axes>"
      ]
     },
     "metadata": {
      "needs_background": "light"
     },
     "output_type": "display_data"
    },
    {
     "name": "stdout",
     "output_type": "stream",
     "text": [
      "Bowler's Economy  :  5.228179551122195\n",
      "Bowlership's Economy  :  6.010526315789473\n",
      "\n",
      "\n",
      "Bowler's Skew     :  0.9824863606959063\n",
      "Bowlership's Skew :  0.2162240784282402\n",
      "Bowler's Kurtosis     :  1.1255348403647476\n",
      "Bowlership's Kurtosis :  -1.241031855955679\n",
      "\n",
      "\n",
      "Greater : Statistics=239.00, p=0.00 \n",
      "Two-Sided : Statistics=239.00, p=0.01 \n",
      "Less : Statistics=239.00, p=1.00 \n",
      "\n",
      "____________________________________________\n",
      "\n",
      "\n",
      "Mashrafe Mortaza Shahadat Hossain\n"
     ]
    },
    {
     "data": {
      "image/png": "[encoded data removed]",
      "text/plain": [
       "<Figure size 432x288 with 1 Axes>"
      ]
     },
     "metadata": {
      "needs_background": "light"
     },
     "output_type": "display_data"
    },
    {
     "name": "stdout",
     "output_type": "stream",
     "text": [
      "Bowler's Economy  :  5.228179551122195\n",
      "Bowlership's Economy  :  4.45\n",
      "\n",
      "\n",
      "Bowler's Skew     :  0.9824863606959063\n",
      "Bowlership's Skew :  0.3585098811645481\n",
      "Bowler's Kurtosis     :  1.1255348403647476\n",
      "Bowlership's Kurtosis :  -0.685539716831912\n",
      "\n",
      "\n",
      "Greater : Statistics=219.50, p=0.00 \n",
      "Two-Sided : Statistics=219.50, p=0.00 \n",
      "Less : Statistics=219.50, p=1.00 \n",
      "\n",
      "Mashrafe Mortaza - Shahadat Hossain better than Mashrafe Mortaza\n",
      "____________________________________________\n",
      "\n",
      "\n",
      "Mashrafe Mortaza Mustafizur Rahman\n"
     ]
    },
    {
     "data": {
      "image/png": "[encoded data removed]",
      "text/plain": [
       "<Figure size 432x288 with 1 Axes>"
      ]
     },
     "metadata": {
      "needs_background": "light"
     },
     "output_type": "display_data"
    },
    {
     "name": "stdout",
     "output_type": "stream",
     "text": [
      "Bowler's Economy  :  5.228179551122195\n",
      "Bowlership's Economy  :  5.925373134328358\n",
      "\n",
      "\n",
      "Bowler's Skew     :  0.9824863606959063\n",
      "Bowlership's Skew :  0.38741678094195187\n",
      "Bowler's Kurtosis     :  1.1255348403647476\n",
      "Bowlership's Kurtosis :  -0.6127456545732368\n",
      "\n",
      "\n",
      "Greater : Statistics=256.00, p=0.00 \n",
      "Two-Sided : Statistics=256.00, p=0.00 \n",
      "Less : Statistics=256.00, p=1.00 \n",
      "\n",
      "____________________________________________\n",
      "\n",
      "\n",
      "Mohammad Hafeez Shahid Afridi\n"
     ]
    },
    {
     "data": {
      "image/png": "[encoded data removed]",
      "text/plain": [
       "<Figure size 432x288 with 1 Axes>"
      ]
     },
     "metadata": {
      "needs_background": "light"
     },
     "output_type": "display_data"
    },
    {
     "name": "stdout",
     "output_type": "stream",
     "text": [
      "Bowler's Economy  :  4.250381679389313\n",
      "Bowlership's Economy  :  4.247191011235955\n",
      "\n",
      "\n",
      "Bowler's Skew     :  1.5380095975502277\n",
      "Bowlership's Skew :  0.5721987370304884\n",
      "Bowler's Kurtosis     :  4.305333213567596\n",
      "Bowlership's Kurtosis :  -1.2828072353268463\n",
      "\n",
      "\n",
      "Greater : Statistics=143.00, p=0.15 \n",
      "Two-Sided : Statistics=143.00, p=0.31 \n",
      "Less : Statistics=143.00, p=0.86 \n",
      "\n",
      "____________________________________________\n",
      "\n",
      "\n",
      "Mohammad Hafeez Saeed Ajmal\n"
     ]
    },
    {
     "data": {
      "image/png": "[encoded data removed]",
      "text/plain": [
       "<Figure size 432x288 with 1 Axes>"
      ]
     },
     "metadata": {
      "needs_background": "light"
     },
     "output_type": "display_data"
    },
    {
     "name": "stdout",
     "output_type": "stream",
     "text": [
      "Bowler's Economy  :  4.250381679389313\n",
      "Bowlership's Economy  :  4.5479452054794525\n",
      "\n",
      "\n",
      "Bowler's Skew     :  1.5380095975502277\n",
      "Bowlership's Skew :  0.7646463851121876\n",
      "Bowler's Kurtosis     :  4.305333213567596\n",
      "Bowlership's Kurtosis :  -0.09541895210713269\n",
      "\n",
      "\n",
      "Greater : Statistics=187.50, p=0.01 \n",
      "Two-Sided : Statistics=187.50, p=0.02 \n",
      "Less : Statistics=187.50, p=0.99 \n",
      "\n",
      "____________________________________________\n",
      "\n",
      "\n",
      "Mohammad Nabi Rashid Khan\n"
     ]
    },
    {
     "data": {
      "image/png": "[encoded data removed]",
      "text/plain": [
       "<Figure size 432x288 with 1 Axes>"
      ]
     },
     "metadata": {
      "needs_background": "light"
     },
     "output_type": "display_data"
    },
    {
     "name": "stdout",
     "output_type": "stream",
     "text": [
      "Bowler's Economy  :  4.5698630136986305\n",
      "Bowlership's Economy  :  4.5049504950495045\n",
      "\n",
      "\n",
      "Bowler's Skew     :  1.0482087871992898\n",
      "Bowlership's Skew :  1.0204595899567686\n",
      "Bowler's Kurtosis     :  1.0009311690709097\n",
      "Bowlership's Kurtosis :  0.16005496550583276\n",
      "\n",
      "\n",
      "Greater : Statistics=183.50, p=0.02 \n",
      "Two-Sided : Statistics=183.50, p=0.04 \n",
      "Less : Statistics=183.50, p=0.98 \n",
      "\n",
      "Mohammad Nabi - Rashid Khan better than Mohammad Nabi\n",
      "____________________________________________\n",
      "\n",
      "\n",
      "Mohammed Shami B Kumar\n"
     ]
    },
    {
     "data": {
      "image/png": "[encoded data removed]",
      "text/plain": [
       "<Figure size 432x288 with 1 Axes>"
      ]
     },
     "metadata": {
      "needs_background": "light"
     },
     "output_type": "display_data"
    },
    {
     "name": "stdout",
     "output_type": "stream",
     "text": [
      "Bowler's Economy  :  5.5954773869346734\n",
      "Bowlership's Economy  :  5.126315789473685\n",
      "\n",
      "\n",
      "Bowler's Skew     :  0.8533589750554313\n",
      "Bowlership's Skew :  0.8170282152378864\n",
      "Bowler's Kurtosis     :  0.3152030455117676\n",
      "Bowlership's Kurtosis :  -0.48224624901627333\n",
      "\n",
      "\n",
      "Greater : Statistics=243.00, p=0.00 \n",
      "Two-Sided : Statistics=243.00, p=0.01 \n",
      "Less : Statistics=243.00, p=1.00 \n",
      "\n",
      "Mohammed Shami - B Kumar better than Mohammed Shami\n",
      "____________________________________________\n",
      "\n",
      "\n",
      "NLTC Perera AD Mathews\n"
     ]
    },
    {
     "data": {
      "image/png": "[encoded data removed]",
      "text/plain": [
       "<Figure size 432x288 with 1 Axes>"
      ]
     },
     "metadata": {
      "needs_background": "light"
     },
     "output_type": "display_data"
    },
    {
     "name": "stdout",
     "output_type": "stream",
     "text": [
      "Bowler's Economy  :  6.148296593186373\n",
      "Bowlership's Economy  :  6.098360655737705\n",
      "\n",
      "\n",
      "Bowler's Skew     :  1.5080464671576181\n",
      "Bowlership's Skew :  0.4832615627582119\n",
      "Bowler's Kurtosis     :  4.496876131486112\n",
      "Bowlership's Kurtosis :  -0.8519953279882442\n",
      "\n",
      "\n",
      "Greater : Statistics=323.50, p=0.00 \n",
      "Two-Sided : Statistics=323.50, p=0.00 \n",
      "Less : Statistics=323.50, p=1.00 \n",
      "\n",
      "NLTC Perera - AD Mathews better than NLTC Perera\n",
      "____________________________________________\n",
      "\n",
      "\n",
      "NW Bracken B Lee\n"
     ]
    },
    {
     "data": {
      "image/png": "[encoded data removed]",
      "text/plain": [
       "<Figure size 432x288 with 1 Axes>"
      ]
     },
     "metadata": {
      "needs_background": "light"
     },
     "output_type": "display_data"
    },
    {
     "name": "stdout",
     "output_type": "stream",
     "text": [
      "Bowler's Economy  :  4.346875\n",
      "Bowlership's Economy  :  4.089743589743589\n",
      "\n",
      "\n",
      "Bowler's Skew     :  1.091423994308594\n",
      "Bowlership's Skew :  0.24952119118614222\n",
      "Bowler's Kurtosis     :  1.4983131568993056\n",
      "Bowlership's Kurtosis :  -1.382786550900297\n",
      "\n",
      "\n",
      "Greater : Statistics=138.50, p=0.06 \n",
      "Two-Sided : Statistics=138.50, p=0.11 \n",
      "Less : Statistics=138.50, p=0.95 \n",
      "\n",
      "____________________________________________\n",
      "\n",
      "\n",
      "P Kumar A Nehra\n"
     ]
    },
    {
     "data": {
      "image/png": "[encoded data removed]",
      "text/plain": [
       "<Figure size 432x288 with 1 Axes>"
      ]
     },
     "metadata": {
      "needs_background": "light"
     },
     "output_type": "display_data"
    },
    {
     "name": "stdout",
     "output_type": "stream",
     "text": [
      "Bowler's Economy  :  5.012779552715655\n",
      "Bowlership's Economy  :  4.8\n",
      "\n",
      "\n",
      "Bowler's Skew     :  0.8570221080315834\n",
      "Bowlership's Skew :  0.611564591846193\n",
      "Bowler's Kurtosis     :  0.7825137868221321\n",
      "Bowlership's Kurtosis :  -0.92625\n",
      "\n",
      "\n",
      "Greater : Statistics=204.50, p=0.02 \n",
      "Two-Sided : Statistics=204.50, p=0.03 \n",
      "Less : Statistics=204.50, p=0.99 \n",
      "\n",
      "P Kumar - A Nehra better than P Kumar\n",
      "____________________________________________\n",
      "\n",
      "\n",
      "P Utseya RW Price\n"
     ]
    },
    {
     "data": {
      "image/png": "[encoded data removed]",
      "text/plain": [
       "<Figure size 432x288 with 1 Axes>"
      ]
     },
     "metadata": {
      "needs_background": "light"
     },
     "output_type": "display_data"
    },
    {
     "name": "stdout",
     "output_type": "stream",
     "text": [
      "Bowler's Economy  :  5.048689138576779\n",
      "Bowlership's Economy  :  5.042857142857143\n",
      "\n",
      "\n",
      "Bowler's Skew     :  0.9922381086957845\n",
      "Bowlership's Skew :  0.33867663955631205\n",
      "Bowler's Kurtosis     :  0.7717313679210203\n",
      "Bowlership's Kurtosis :  -1.1257396449704142\n",
      "\n",
      "\n",
      "Greater : Statistics=204.50, p=0.00 \n",
      "Two-Sided : Statistics=204.50, p=0.00 \n",
      "Less : Statistics=204.50, p=1.00 \n",
      "\n",
      "P Utseya - RW Price better than P Utseya\n",
      "____________________________________________\n",
      "\n",
      "\n",
      "R Ashwin RA Jadeja\n"
     ]
    },
    {
     "data": {
      "image/png": "[encoded data removed]",
      "text/plain": [
       "<Figure size 432x288 with 1 Axes>"
      ]
     },
     "metadata": {
      "needs_background": "light"
     },
     "output_type": "display_data"
    },
    {
     "name": "stdout",
     "output_type": "stream",
     "text": [
      "Bowler's Economy  :  5.118032786885246\n",
      "Bowlership's Economy  :  5.08080808080808\n",
      "\n",
      "\n",
      "Bowler's Skew     :  1.0585490848505208\n",
      "Bowlership's Skew :  0.9590612539957731\n",
      "Bowler's Kurtosis     :  1.2013570416887562\n",
      "Bowlership's Kurtosis :  -0.26335649520013993\n",
      "\n",
      "\n",
      "Greater : Statistics=230.00, p=0.02 \n",
      "Two-Sided : Statistics=230.00, p=0.03 \n",
      "Less : Statistics=230.00, p=0.99 \n",
      "\n",
      "R Ashwin - RA Jadeja better than R Ashwin\n",
      "____________________________________________\n",
      "\n",
      "\n",
      "RA Jadeja R Ashwin\n"
     ]
    },
    {
     "data": {
      "image/png": "[encoded data removed]",
      "text/plain": [
       "<Figure size 432x288 with 1 Axes>"
      ]
     },
     "metadata": {
      "needs_background": "light"
     },
     "output_type": "display_data"
    },
    {
     "name": "stdout",
     "output_type": "stream",
     "text": [
      "Bowler's Economy  :  4.8792325056433405\n",
      "Bowlership's Economy  :  5.040404040404041\n",
      "\n",
      "\n",
      "Bowler's Skew     :  1.3034345114299661\n",
      "Bowlership's Skew :  1.1454164479265045\n",
      "Bowler's Kurtosis     :  2.954532619486285\n",
      "Bowlership's Kurtosis :  0.603557597965922\n",
      "\n",
      "\n",
      "Greater : Statistics=277.50, p=0.01 \n",
      "Two-Sided : Statistics=277.50, p=0.01 \n",
      "Less : Statistics=277.50, p=0.99 \n",
      "\n",
      "____________________________________________\n",
      "\n",
      "\n",
      "RA Jadeja Kuldeep Yadav\n"
     ]
    },
    {
     "data": {
      "image/png": "[encoded data removed]",
      "text/plain": [
       "<Figure size 432x288 with 1 Axes>"
      ]
     },
     "metadata": {
      "needs_background": "light"
     },
     "output_type": "display_data"
    },
    {
     "name": "stdout",
     "output_type": "stream",
     "text": [
      "Bowler's Economy  :  4.8792325056433405\n",
      "Bowlership's Economy  :  4.6571428571428575\n",
      "\n",
      "\n",
      "Bowler's Skew     :  1.3034345114299661\n",
      "Bowlership's Skew :  0.0\n",
      "Bowler's Kurtosis     :  2.954532619486285\n",
      "Bowlership's Kurtosis :  -1.2412564045444419\n",
      "\n",
      "\n",
      "Greater : Statistics=144.50, p=0.03 \n",
      "Two-Sided : Statistics=144.50, p=0.05 \n",
      "Less : Statistics=144.50, p=0.98 \n",
      "\n",
      "____________________________________________\n",
      "\n",
      "\n",
      "Rubel Hossain Shakib Al Hasan\n"
     ]
    },
    {
     "data": {
      "image/png": "[encoded data removed]",
      "text/plain": [
       "<Figure size 432x288 with 1 Axes>"
      ]
     },
     "metadata": {
      "needs_background": "light"
     },
     "output_type": "display_data"
    },
    {
     "name": "stdout",
     "output_type": "stream",
     "text": [
      "Bowler's Economy  :  6.017543859649122\n",
      "Bowlership's Economy  :  6.5\n",
      "\n",
      "\n",
      "Bowler's Skew     :  1.0369806743245968\n",
      "Bowlership's Skew :  0.5330417881438286\n",
      "Bowler's Kurtosis     :  1.8681854626755605\n",
      "Bowlership's Kurtosis :  -0.7963772810711593\n",
      "\n",
      "\n",
      "Greater : Statistics=260.50, p=0.02 \n",
      "Two-Sided : Statistics=260.50, p=0.04 \n",
      "Less : Statistics=260.50, p=0.98 \n",
      "\n",
      "____________________________________________\n",
      "\n",
      "\n",
      "SC Williams Sikandar Raza\n"
     ]
    },
    {
     "data": {
      "image/png": "[encoded data removed]",
      "text/plain": [
       "<Figure size 432x288 with 1 Axes>"
      ]
     },
     "metadata": {
      "needs_background": "light"
     },
     "output_type": "display_data"
    },
    {
     "name": "stdout",
     "output_type": "stream",
     "text": [
      "Bowler's Economy  :  5.013623978201635\n",
      "Bowlership's Economy  :  4.924242424242424\n",
      "\n",
      "\n",
      "Bowler's Skew     :  1.3671630346962496\n",
      "Bowlership's Skew :  0.3872985840530147\n",
      "Bowler's Kurtosis     :  3.0600172862426893\n",
      "Bowlership's Kurtosis :  -1.0352441601494629\n",
      "\n",
      "\n",
      "Greater : Statistics=171.00, p=0.07 \n",
      "Two-Sided : Statistics=171.00, p=0.13 \n",
      "Less : Statistics=171.00, p=0.94 \n",
      "\n",
      "____________________________________________\n",
      "\n",
      "\n",
      "SCJ Broad TT Bresnan\n"
     ]
    },
    {
     "data": {
      "image/png": "[encoded data removed]",
      "text/plain": [
       "<Figure size 432x288 with 1 Axes>"
      ]
     },
     "metadata": {
      "needs_background": "light"
     },
     "output_type": "display_data"
    },
    {
     "name": "stdout",
     "output_type": "stream",
     "text": [
      "Bowler's Economy  :  5.282374100719425\n",
      "Bowlership's Economy  :  5.338461538461538\n",
      "\n",
      "\n",
      "Bowler's Skew     :  0.9019105135445932\n",
      "Bowlership's Skew :  1.183887959634499\n",
      "Bowler's Kurtosis     :  0.4610234435325249\n",
      "Bowlership's Kurtosis :  0.5653902417179988\n",
      "\n",
      "\n",
      "Greater : Statistics=250.50, p=0.00 \n",
      "Two-Sided : Statistics=250.50, p=0.00 \n",
      "Less : Statistics=250.50, p=1.00 \n",
      "\n",
      "____________________________________________\n",
      "\n",
      "\n",
      "SCJ Broad JM Anderson\n"
     ]
    },
    {
     "data": {
      "image/png": "[encoded data removed]",
      "text/plain": [
       "<Figure size 432x288 with 1 Axes>"
      ]
     },
     "metadata": {
      "needs_background": "light"
     },
     "output_type": "display_data"
    },
    {
     "name": "stdout",
     "output_type": "stream",
     "text": [
      "Bowler's Economy  :  5.282374100719425\n",
      "Bowlership's Economy  :  5.018072289156627\n",
      "\n",
      "\n",
      "Bowler's Skew     :  0.9019105135445932\n",
      "Bowlership's Skew :  0.49736930598193846\n",
      "Bowler's Kurtosis     :  0.4610234435325249\n",
      "Bowlership's Kurtosis :  -1.0722420416006797\n",
      "\n",
      "\n",
      "Greater : Statistics=245.00, p=0.01 \n",
      "Two-Sided : Statistics=245.00, p=0.02 \n",
      "Less : Statistics=245.00, p=0.99 \n",
      "\n",
      "SCJ Broad - JM Anderson better than SCJ Broad\n",
      "____________________________________________\n",
      "\n",
      "\n",
      "SL Malinga KMDN Kulasekara\n"
     ]
    },
    {
     "data": {
      "image/png": "[encoded data removed]",
      "text/plain": [
       "<Figure size 432x288 with 1 Axes>"
      ]
     },
     "metadata": {
      "needs_background": "light"
     },
     "output_type": "display_data"
    },
    {
     "name": "stdout",
     "output_type": "stream",
     "text": [
      "Bowler's Economy  :  5.592326139088729\n",
      "Bowlership's Economy  :  5.36144578313253\n",
      "\n",
      "\n",
      "Bowler's Skew     :  0.8940060275882517\n",
      "Bowlership's Skew :  0.1380829741694612\n",
      "Bowler's Kurtosis     :  1.0967644484907204\n",
      "Bowlership's Kurtosis :  -1.5208459376858148\n",
      "\n",
      "\n",
      "Greater : Statistics=261.00, p=0.04 \n",
      "Two-Sided : Statistics=261.00, p=0.07 \n",
      "Less : Statistics=261.00, p=0.97 \n",
      "\n",
      "____________________________________________\n",
      "\n",
      "\n",
      "SM Pollock M Ntini\n"
     ]
    },
    {
     "data": {
      "image/png": "[encoded data removed]",
      "text/plain": [
       "<Figure size 432x288 with 1 Axes>"
      ]
     },
     "metadata": {
      "needs_background": "light"
     },
     "output_type": "display_data"
    },
    {
     "name": "stdout",
     "output_type": "stream",
     "text": [
      "Bowler's Economy  :  3.481012658227848\n",
      "Bowlership's Economy  :  3.4177215189873418\n",
      "\n",
      "\n",
      "Bowler's Skew     :  1.261726544471384\n",
      "Bowlership's Skew :  1.035137455288984\n",
      "Bowler's Kurtosis     :  1.8034264749816575\n",
      "Bowlership's Kurtosis :  0.025592664359860517\n",
      "\n",
      "\n",
      "Greater : Statistics=126.00, p=0.26 \n",
      "Two-Sided : Statistics=126.00, p=0.53 \n",
      "Less : Statistics=126.00, p=0.75 \n",
      "\n",
      "____________________________________________\n",
      "\n",
      "\n",
      "SR Watson MG Johnson\n"
     ]
    },
    {
     "data": {
      "image/png": "[encoded data removed]",
      "text/plain": [
       "<Figure size 432x288 with 1 Axes>"
      ]
     },
     "metadata": {
      "needs_background": "light"
     },
     "output_type": "display_data"
    },
    {
     "name": "stdout",
     "output_type": "stream",
     "text": [
      "Bowler's Economy  :  4.846361185983827\n",
      "Bowlership's Economy  :  4.9375\n",
      "\n",
      "\n",
      "Bowler's Skew     :  1.072245856324442\n",
      "Bowlership's Skew :  0.49496207536344033\n",
      "Bowler's Kurtosis     :  1.8107673444394354\n",
      "Bowlership's Kurtosis :  -0.7026181818181811\n",
      "\n",
      "\n",
      "Greater : Statistics=157.00, p=0.06 \n",
      "Two-Sided : Statistics=157.00, p=0.11 \n",
      "Less : Statistics=157.00, p=0.95 \n",
      "\n",
      "____________________________________________\n",
      "\n",
      "\n",
      "ST Finn JM Anderson\n"
     ]
    },
    {
     "data": {
      "image/png": "[encoded data removed]",
      "text/plain": [
       "<Figure size 432x288 with 1 Axes>"
      ]
     },
     "metadata": {
      "needs_background": "light"
     },
     "output_type": "display_data"
    },
    {
     "name": "stdout",
     "output_type": "stream",
     "text": [
      "Bowler's Economy  :  4.9296636085626915\n",
      "Bowlership's Economy  :  4.158730158730159\n",
      "\n",
      "\n",
      "Bowler's Skew     :  0.8386782733434729\n",
      "Bowlership's Skew :  1.430986403523176\n",
      "Bowler's Kurtosis     :  0.5656467065428386\n",
      "Bowlership's Kurtosis :  1.4777767713886432\n",
      "\n",
      "\n",
      "Greater : Statistics=216.50, p=0.01 \n",
      "Two-Sided : Statistics=216.50, p=0.01 \n",
      "Less : Statistics=216.50, p=1.00 \n",
      "\n",
      "ST Finn - JM Anderson better than ST Finn\n",
      "____________________________________________\n",
      "\n",
      "\n",
      "Saeed Ajmal Shahid Afridi\n"
     ]
    },
    {
     "data": {
      "image/png": "[encoded data removed]",
      "text/plain": [
       "<Figure size 432x288 with 1 Axes>"
      ]
     },
     "metadata": {
      "needs_background": "light"
     },
     "output_type": "display_data"
    },
    {
     "name": "stdout",
     "output_type": "stream",
     "text": [
      "Bowler's Economy  :  4.3869653767820775\n",
      "Bowlership's Economy  :  3.8089171974522293\n",
      "\n",
      "\n",
      "Bowler's Skew     :  1.1044955245646084\n",
      "Bowlership's Skew :  0.30833339550965305\n",
      "Bowler's Kurtosis     :  1.3311762432538705\n",
      "Bowlership's Kurtosis :  -1.280154404466292\n",
      "\n",
      "\n",
      "Greater : Statistics=150.00, p=0.16 \n",
      "Two-Sided : Statistics=150.00, p=0.32 \n",
      "Less : Statistics=150.00, p=0.85 \n",
      "\n",
      "____________________________________________\n",
      "\n",
      "\n",
      "Saeed Ajmal Mohammad Hafeez\n"
     ]
    },
    {
     "data": {
      "image/png": "[encoded data removed]",
      "text/plain": [
       "<Figure size 432x288 with 1 Axes>"
      ]
     },
     "metadata": {
      "needs_background": "light"
     },
     "output_type": "display_data"
    },
    {
     "name": "stdout",
     "output_type": "stream",
     "text": [
      "Bowler's Economy  :  4.3869653767820775\n",
      "Bowlership's Economy  :  3.506849315068493\n",
      "\n",
      "\n",
      "Bowler's Skew     :  1.1044955245646084\n",
      "Bowlership's Skew :  0.5983362444828538\n",
      "Bowler's Kurtosis     :  1.3311762432538705\n",
      "Bowlership's Kurtosis :  -1.1174850765002828\n",
      "\n",
      "\n",
      "Greater : Statistics=157.50, p=0.04 \n",
      "Two-Sided : Statistics=157.50, p=0.08 \n",
      "Less : Statistics=157.50, p=0.96 \n",
      "\n",
      "____________________________________________\n",
      "\n",
      "\n",
      "Shahid Afridi Mohammad Hafeez\n"
     ]
    },
    {
     "data": {
      "image/png": "[encoded data removed]",
      "text/plain": [
       "<Figure size 432x288 with 1 Axes>"
      ]
     },
     "metadata": {
      "needs_background": "light"
     },
     "output_type": "display_data"
    },
    {
     "name": "stdout",
     "output_type": "stream",
     "text": [
      "Bowler's Economy  :  4.761177753544166\n",
      "Bowlership's Economy  :  4.696629213483146\n",
      "\n",
      "\n",
      "Bowler's Skew     :  1.2361356226068603\n",
      "Bowlership's Skew :  0.7022177640683612\n",
      "Bowler's Kurtosis     :  2.6281652438843404\n",
      "Bowlership's Kurtosis :  -0.8452201300192028\n",
      "\n",
      "\n",
      "Greater : Statistics=153.00, p=0.20 \n",
      "Two-Sided : Statistics=153.00, p=0.41 \n",
      "Less : Statistics=153.00, p=0.81 \n",
      "\n",
      "____________________________________________\n",
      "\n",
      "\n",
      "Shahid Afridi Saeed Ajmal\n"
     ]
    },
    {
     "data": {
      "image/png": "[encoded data removed]",
      "text/plain": [
       "<Figure size 432x288 with 1 Axes>"
      ]
     },
     "metadata": {
      "needs_background": "light"
     },
     "output_type": "display_data"
    },
    {
     "name": "stdout",
     "output_type": "stream",
     "text": [
      "Bowler's Economy  :  4.761177753544166\n",
      "Bowlership's Economy  :  4.445859872611465\n",
      "\n",
      "\n",
      "Bowler's Skew     :  1.2361356226068603\n",
      "Bowlership's Skew :  0.8301815281150883\n",
      "Bowler's Kurtosis     :  2.6281652438843404\n",
      "Bowlership's Kurtosis :  -0.6616445241711721\n",
      "\n",
      "\n",
      "Greater : Statistics=224.00, p=0.02 \n",
      "Two-Sided : Statistics=224.00, p=0.04 \n",
      "Less : Statistics=224.00, p=0.98 \n",
      "\n",
      "Shahid Afridi - Saeed Ajmal better than Shahid Afridi\n",
      "____________________________________________\n",
      "\n",
      "\n",
      "Shahid Afridi Shoaib Malik\n"
     ]
    },
    {
     "data": {
      "image/png": "[encoded data removed]",
      "text/plain": [
       "<Figure size 432x288 with 1 Axes>"
      ]
     },
     "metadata": {
      "needs_background": "light"
     },
     "output_type": "display_data"
    },
    {
     "name": "stdout",
     "output_type": "stream",
     "text": [
      "Bowler's Economy  :  4.761177753544166\n",
      "Bowlership's Economy  :  4.808695652173913\n",
      "\n",
      "\n",
      "Bowler's Skew     :  1.2361356226068603\n",
      "Bowlership's Skew :  0.5058797479230832\n",
      "Bowler's Kurtosis     :  2.6281652438843404\n",
      "Bowlership's Kurtosis :  -0.8100283376317385\n",
      "\n",
      "\n",
      "Greater : Statistics=196.50, p=0.02 \n",
      "Two-Sided : Statistics=196.50, p=0.05 \n",
      "Less : Statistics=196.50, p=0.98 \n",
      "\n",
      "____________________________________________\n",
      "\n",
      "\n",
      "Shakib Al Hasan Mahmudullah\n"
     ]
    },
    {
     "data": {
      "image/png": "[encoded data removed]",
      "text/plain": [
       "<Figure size 432x288 with 1 Axes>"
      ]
     },
     "metadata": {
      "needs_background": "light"
     },
     "output_type": "display_data"
    },
    {
     "name": "stdout",
     "output_type": "stream",
     "text": [
      "Bowler's Economy  :  4.725512528473804\n",
      "Bowlership's Economy  :  4.404494382022472\n",
      "\n",
      "\n",
      "Bowler's Skew     :  1.2462729816667057\n",
      "Bowlership's Skew :  0.3560770843974681\n",
      "Bowler's Kurtosis     :  2.403969495443964\n",
      "Bowlership's Kurtosis :  -0.98209307756062\n",
      "\n",
      "\n",
      "Greater : Statistics=172.00, p=0.02 \n",
      "Two-Sided : Statistics=172.00, p=0.04 \n",
      "Less : Statistics=172.00, p=0.98 \n",
      "\n",
      "Shakib Al Hasan - Mahmudullah better than Shakib Al Hasan\n",
      "____________________________________________\n",
      "\n",
      "\n",
      "Shakib Al Hasan Rubel Hossain\n"
     ]
    },
    {
     "data": {
      "image/png": "[encoded data removed]",
      "text/plain": [
       "<Figure size 432x288 with 1 Axes>"
      ]
     },
     "metadata": {
      "needs_background": "light"
     },
     "output_type": "display_data"
    },
    {
     "name": "stdout",
     "output_type": "stream",
     "text": [
      "Bowler's Economy  :  4.725512528473804\n",
      "Bowlership's Economy  :  4.757575757575758\n",
      "\n",
      "\n",
      "Bowler's Skew     :  1.2462729816667057\n",
      "Bowlership's Skew :  0.39296989804516225\n",
      "Bowler's Kurtosis     :  2.403969495443964\n",
      "Bowlership's Kurtosis :  -1.3740408694334778\n",
      "\n",
      "\n",
      "Greater : Statistics=201.50, p=0.00 \n",
      "Two-Sided : Statistics=201.50, p=0.01 \n",
      "Less : Statistics=201.50, p=1.00 \n",
      "\n",
      "____________________________________________\n",
      "\n",
      "\n",
      "Shakib Al Hasan Mashrafe Mortaza\n"
     ]
    },
    {
     "data": {
      "image/png": "[encoded data removed]",
      "text/plain": [
       "<Figure size 432x288 with 1 Axes>"
      ]
     },
     "metadata": {
      "needs_background": "light"
     },
     "output_type": "display_data"
    },
    {
     "name": "stdout",
     "output_type": "stream",
     "text": [
      "Bowler's Economy  :  4.725512528473804\n",
      "Bowlership's Economy  :  4.768421052631579\n",
      "\n",
      "\n",
      "Bowler's Skew     :  1.2462729816667057\n",
      "Bowlership's Skew :  0.7303340606144949\n",
      "Bowler's Kurtosis     :  2.403969495443964\n",
      "Bowlership's Kurtosis :  -0.684404054291234\n",
      "\n",
      "\n",
      "Greater : Statistics=208.00, p=0.01 \n",
      "Two-Sided : Statistics=208.00, p=0.02 \n",
      "Less : Statistics=208.00, p=0.99 \n",
      "\n",
      "____________________________________________\n",
      "\n",
      "\n",
      "Shakib Al Hasan Abdur Razzak\n"
     ]
    },
    {
     "data": {
      "image/png": "[encoded data removed]",
      "text/plain": [
       "<Figure size 432x288 with 1 Axes>"
      ]
     },
     "metadata": {
      "needs_background": "light"
     },
     "output_type": "display_data"
    },
    {
     "name": "stdout",
     "output_type": "stream",
     "text": [
      "Bowler's Economy  :  4.725512528473804\n",
      "Bowlership's Economy  :  4.361538461538461\n",
      "\n",
      "\n",
      "Bowler's Skew     :  1.2462729816667057\n",
      "Bowlership's Skew :  0.6568126730417695\n",
      "Bowler's Kurtosis     :  2.403969495443964\n",
      "Bowlership's Kurtosis :  -0.500859141078279\n",
      "\n",
      "\n",
      "Greater : Statistics=216.00, p=0.01 \n",
      "Two-Sided : Statistics=216.00, p=0.03 \n",
      "Less : Statistics=216.00, p=0.99 \n",
      "\n",
      "Shakib Al Hasan - Abdur Razzak better than Shakib Al Hasan\n",
      "____________________________________________\n",
      "\n",
      "\n",
      "Shoaib Malik Shahid Afridi\n"
     ]
    },
    {
     "data": {
      "image/png": "[encoded data removed]",
      "text/plain": [
       "<Figure size 432x288 with 1 Axes>"
      ]
     },
     "metadata": {
      "needs_background": "light"
     },
     "output_type": "display_data"
    },
    {
     "name": "stdout",
     "output_type": "stream",
     "text": [
      "Bowler's Economy  :  5.1924119241192415\n",
      "Bowlership's Economy  :  4.6173913043478265\n",
      "\n",
      "\n",
      "Bowler's Skew     :  1.4963429271742918\n",
      "Bowlership's Skew :  1.990816714388917\n",
      "Bowler's Kurtosis     :  5.022077816548178\n",
      "Bowlership's Kurtosis :  3.1271497652323026\n",
      "\n",
      "\n",
      "Greater : Statistics=131.00, p=0.10 \n",
      "Two-Sided : Statistics=131.00, p=0.21 \n",
      "Less : Statistics=131.00, p=0.90 \n",
      "\n",
      "____________________________________________\n",
      "\n",
      "\n",
      "TA Boult TG Southee\n"
     ]
    },
    {
     "data": {
      "image/png": "[encoded data removed]",
      "text/plain": [
       "<Figure size 432x288 with 1 Axes>"
      ]
     },
     "metadata": {
      "needs_background": "light"
     },
     "output_type": "display_data"
    },
    {
     "name": "stdout",
     "output_type": "stream",
     "text": [
      "Bowler's Economy  :  5.153652392947103\n",
      "Bowlership's Economy  :  4.767241379310345\n",
      "\n",
      "\n",
      "Bowler's Skew     :  1.0146508223638266\n",
      "Bowlership's Skew :  0.23355313289257898\n",
      "Bowler's Kurtosis     :  1.2121853655517087\n",
      "Bowlership's Kurtosis :  -1.4383358475588799\n",
      "\n",
      "\n",
      "Greater : Statistics=242.50, p=0.01 \n",
      "Two-Sided : Statistics=242.50, p=0.01 \n",
      "Less : Statistics=242.50, p=1.00 \n",
      "\n",
      "TA Boult - TG Southee better than TA Boult\n",
      "____________________________________________\n",
      "\n",
      "\n",
      "TA Boult MJ Henry\n"
     ]
    },
    {
     "data": {
      "image/png": "[encoded data removed]",
      "text/plain": [
       "<Figure size 432x288 with 1 Axes>"
      ]
     },
     "metadata": {
      "needs_background": "light"
     },
     "output_type": "display_data"
    },
    {
     "name": "stdout",
     "output_type": "stream",
     "text": [
      "Bowler's Economy  :  5.153652392947103\n",
      "Bowlership's Economy  :  5.076923076923077\n",
      "\n",
      "\n",
      "Bowler's Skew     :  1.0146508223638266\n",
      "Bowlership's Skew :  0.6361784145397347\n",
      "Bowler's Kurtosis     :  1.2121853655517087\n",
      "Bowlership's Kurtosis :  -0.8421353662892157\n",
      "\n",
      "\n",
      "Greater : Statistics=243.00, p=0.00 \n",
      "Two-Sided : Statistics=243.00, p=0.00 \n",
      "Less : Statistics=243.00, p=1.00 \n",
      "\n",
      "TA Boult - MJ Henry better than TA Boult\n",
      "____________________________________________\n",
      "\n",
      "\n",
      "TG Southee TA Boult\n"
     ]
    },
    {
     "data": {
      "image/png": "[encoded data removed]",
      "text/plain": [
       "<Figure size 432x288 with 1 Axes>"
      ]
     },
     "metadata": {
      "needs_background": "light"
     },
     "output_type": "display_data"
    },
    {
     "name": "stdout",
     "output_type": "stream",
     "text": [
      "Bowler's Economy  :  5.401079136690647\n",
      "Bowlership's Economy  :  5.474137931034483\n",
      "\n",
      "\n",
      "Bowler's Skew     :  0.8608239737939603\n",
      "Bowlership's Skew :  0.23557480343819676\n",
      "Bowler's Kurtosis     :  0.6991932615457377\n",
      "Bowlership's Kurtosis :  -0.5210505714708242\n",
      "\n",
      "\n",
      "Greater : Statistics=218.50, p=0.01 \n",
      "Two-Sided : Statistics=218.50, p=0.02 \n",
      "Less : Statistics=218.50, p=0.99 \n",
      "\n",
      "____________________________________________\n",
      "\n",
      "\n",
      "TG Southee KD Mills\n"
     ]
    },
    {
     "data": {
      "image/png": "[encoded data removed]",
      "text/plain": [
       "<Figure size 432x288 with 1 Axes>"
      ]
     },
     "metadata": {
      "needs_background": "light"
     },
     "output_type": "display_data"
    },
    {
     "name": "stdout",
     "output_type": "stream",
     "text": [
      "Bowler's Economy  :  5.401079136690647\n",
      "Bowlership's Economy  :  5.107142857142857\n",
      "\n",
      "\n",
      "Bowler's Skew     :  0.8608239737939603\n",
      "Bowlership's Skew :  0.9803637803294333\n",
      "Bowler's Kurtosis     :  0.6991932615457377\n",
      "Bowlership's Kurtosis :  0.04035418783568012\n",
      "\n",
      "\n",
      "Greater : Statistics=258.00, p=0.00 \n",
      "Two-Sided : Statistics=258.00, p=0.00 \n",
      "Less : Statistics=258.00, p=1.00 \n",
      "\n",
      "TG Southee - KD Mills better than TG Southee\n",
      "____________________________________________\n",
      "\n",
      "\n",
      "TL Chatara T Panyangara\n"
     ]
    },
    {
     "data": {
      "image/png": "[encoded data removed]",
      "text/plain": [
       "<Figure size 432x288 with 1 Axes>"
      ]
     },
     "metadata": {
      "needs_background": "light"
     },
     "output_type": "display_data"
    },
    {
     "name": "stdout",
     "output_type": "stream",
     "text": [
      "Bowler's Economy  :  5.249266862170088\n",
      "Bowlership's Economy  :  5.583333333333333\n",
      "\n",
      "\n",
      "Bowler's Skew     :  1.4421231637601388\n",
      "Bowlership's Skew :  0.22055815720008712\n",
      "Bowler's Kurtosis     :  3.8393225405911515\n",
      "Bowlership's Kurtosis :  -1.679704100403059\n",
      "\n",
      "\n",
      "Greater : Statistics=272.50, p=0.00 \n",
      "Two-Sided : Statistics=272.50, p=0.01 \n",
      "Less : Statistics=272.50, p=1.00 \n",
      "\n",
      "____________________________________________\n",
      "\n",
      "\n",
      "TT Bresnan SCJ Broad\n"
     ]
    },
    {
     "data": {
      "image/png": "[encoded data removed]",
      "text/plain": [
       "<Figure size 432x288 with 1 Axes>"
      ]
     },
     "metadata": {
      "needs_background": "light"
     },
     "output_type": "display_data"
    },
    {
     "name": "stdout",
     "output_type": "stream",
     "text": [
      "Bowler's Economy  :  5.401617250673854\n",
      "Bowlership's Economy  :  4.876923076923077\n",
      "\n",
      "\n",
      "Bowler's Skew     :  0.8225686522426688\n",
      "Bowlership's Skew :  0.4832776192609749\n",
      "Bowler's Kurtosis     :  0.7269428277111869\n",
      "Bowlership's Kurtosis :  -0.8117379488644634\n",
      "\n",
      "\n",
      "Greater : Statistics=171.00, p=0.00 \n",
      "Two-Sided : Statistics=171.00, p=0.01 \n",
      "Less : Statistics=171.00, p=1.00 \n",
      "\n",
      "TT Bresnan - SCJ Broad better than TT Bresnan\n",
      "____________________________________________\n",
      "\n",
      "\n",
      "TT Bresnan JM Anderson\n"
     ]
    },
    {
     "data": {
      "image/png": "[encoded data removed]",
      "text/plain": [
       "<Figure size 432x288 with 1 Axes>"
      ]
     },
     "metadata": {
      "needs_background": "light"
     },
     "output_type": "display_data"
    },
    {
     "name": "stdout",
     "output_type": "stream",
     "text": [
      "Bowler's Economy  :  5.401617250673854\n",
      "Bowlership's Economy  :  5.488372093023256\n",
      "\n",
      "\n",
      "Bowler's Skew     :  0.8225686522426688\n",
      "Bowlership's Skew :  0.42727719040327955\n",
      "Bowler's Kurtosis     :  0.7269428277111869\n",
      "Bowlership's Kurtosis :  -0.0051259271688368635\n",
      "\n",
      "\n",
      "Greater : Statistics=203.50, p=0.01 \n",
      "Two-Sided : Statistics=203.50, p=0.01 \n",
      "Less : Statistics=203.50, p=0.99 \n",
      "\n",
      "____________________________________________\n",
      "\n",
      "\n",
      "Yuvraj Singh Harbhajan Singh\n"
     ]
    },
    {
     "data": {
      "image/png": "[encoded data removed]",
      "text/plain": [
       "<Figure size 432x288 with 1 Axes>"
      ]
     },
     "metadata": {
      "needs_background": "light"
     },
     "output_type": "display_data"
    },
    {
     "name": "stdout",
     "output_type": "stream",
     "text": [
      "Bowler's Economy  :  5.076470588235294\n",
      "Bowlership's Economy  :  5.064516129032258\n",
      "\n",
      "\n",
      "Bowler's Skew     :  1.2300690327777062\n",
      "Bowlership's Skew :  0.633615888680778\n",
      "Bowler's Kurtosis     :  2.463987260055733\n",
      "Bowlership's Kurtosis :  -1.1035454668874336\n",
      "\n",
      "\n",
      "Greater : Statistics=148.50, p=0.11 \n",
      "Two-Sided : Statistics=148.50, p=0.21 \n",
      "Less : Statistics=148.50, p=0.90 \n",
      "\n",
      "____________________________________________\n",
      "\n",
      "\n",
      "Z Khan MM Patel\n"
     ]
    },
    {
     "data": {
      "image/png": "[encoded data removed]",
      "text/plain": [
       "<Figure size 432x288 with 1 Axes>"
      ]
     },
     "metadata": {
      "needs_background": "light"
     },
     "output_type": "display_data"
    },
    {
     "name": "stdout",
     "output_type": "stream",
     "text": [
      "Bowler's Economy  :  5.030487804878049\n",
      "Bowlership's Economy  :  4.483333333333333\n",
      "\n",
      "\n",
      "Bowler's Skew     :  0.8066359385129929\n",
      "Bowlership's Skew :  0.3160883507883844\n",
      "Bowler's Kurtosis     :  0.5639063004041573\n",
      "Bowlership's Kurtosis :  -1.280618311533888\n",
      "\n",
      "\n",
      "Greater : Statistics=175.50, p=0.01 \n",
      "Two-Sided : Statistics=175.50, p=0.01 \n",
      "Less : Statistics=175.50, p=0.99 \n",
      "\n",
      "Z Khan - MM Patel better than Z Khan\n",
      "____________________________________________\n",
      "\n",
      "\n"
     ]
    }
   ],
   "source": [
    "\n",
    "from collections import Counter \n",
    "from scipy.stats import skew, kurtosis\n",
    "from scipy.stats import mannwhitneyu\n",
    "\n",
    "#with open(\"econ-edges.csv\",'w') as fw:\n",
    "for name in Bpartner_qualified.keys():\n",
    "    dfbowler = og_data.loc[og_data['bowler'] == name]\n",
    "    for pname in Bpartner_qualified[name]:\n",
    "        print(name,pname)\n",
    "        dfpairab = paired_data.loc[paired_data['bowler1']==name] \n",
    "        dfpairab = dfpairab.loc[dfpairab['bowler2']==pname]\n",
    "        dfpairba = paired_data.loc[paired_data['bowler2']==name]\n",
    "        dfpairba = dfpairba.loc[dfpairba['bowler1']==pname]\n",
    "\n",
    "        dict_1 = Counter(dict(dfpairab['runs1'].value_counts())) \n",
    "        dict_2 = Counter(dict(dfpairba['runs2'].value_counts()))\n",
    "        fin_dict = dict(dict_1 + dict_2)\n",
    "        fin_df = pd.DataFrame(fin_dict.items())\n",
    "\n",
    "        pure_dict = dict(dfbowler['runs'].value_counts())\n",
    "        plt.bar(*zip(*pure_dict.items()),color='g',width=1.0)\n",
    "        plt.bar(*zip(*fin_dict.items()),color='y',width=1.0)\n",
    "\n",
    "        plt.show()\n",
    "\n",
    "        s=0\n",
    "        d=0\n",
    "        for k,v in pure_dict.items():\n",
    "            s = s + k*v\n",
    "            d = d + v\n",
    "        be = s/d\n",
    "        print(\"Bowler's Economy  : \",be)\n",
    "        s=0\n",
    "        d=0\n",
    "        for k,v in fin_dict.items():\n",
    "            s = s + k*v\n",
    "            d = d + v\n",
    "        bse = s/d \n",
    "        print(\"Bowlership's Economy  : \",bse)\n",
    "        print('\\n')\n",
    "\n",
    "        print(\"Bowler's Skew     : \",skew(dfbowler['runs'].dropna()))\n",
    "        print(\"Bowlership's Skew : \",skew((fin_df[1].dropna())))\n",
    "\n",
    "        print(\"Bowler's Kurtosis     : \",kurtosis(dfbowler['runs'].dropna()))\n",
    "        print(\"Bowlership's Kurtosis : \",kurtosis((fin_df[1].dropna())))\n",
    "\n",
    "        print('\\n')\n",
    "\n",
    "        alpha = 0.05\n",
    "\n",
    "        batch_1 = dfbowler['runs'].value_counts()\n",
    "        batch_2 = fin_df[1]\n",
    "\n",
    "        stat1, p_value1 = mannwhitneyu(batch_1, batch_2, alternative=\"greater\") \n",
    "        print('Greater : Statistics=%.2f, p=%.2f ' % (stat1, p_value1)) \n",
    "\n",
    "        #if p_value1 < alpha: \n",
    "            #print('Reject Null Hypothesis => batch1 NOT GREATER than batch2') \n",
    "        #else: \n",
    "            #print('Do not Reject Null Hypothesis => batch1 GREATER THAN EQUAL TO batch2')\n",
    "\n",
    "        stat2, p_value2 = mannwhitneyu(batch_1, batch_2, alternative=\"two-sided\") \n",
    "        print('Two-Sided : Statistics=%.2f, p=%.2f ' % (stat2, p_value2)) \n",
    "\n",
    "        #if p_value2 < alpha: \n",
    "            #print('Reject Null Hypothesis => batch1 NOT EQUAL to batch2') \n",
    "        #else: \n",
    "            #print('Do not Reject Null Hypothesis => batch1 is EQUAL to batch2')\n",
    "\n",
    "        stat3, p_value3 = mannwhitneyu(batch_1, batch_2, alternative=\"less\") \n",
    "        print('Less : Statistics=%.2f, p=%.2f \\n' % (stat3, p_value3)) \n",
    "\n",
    "        #if p_value3 < alpha: \n",
    "            #print('Reject Null Hypothesis => batch1 NOT LESS than batch2') \n",
    "        #else: \n",
    "            #print('Do not Reject Null Hypothesis => batch1 LESS THAN EQUAL TO batch2')\n",
    "\n",
    "        if (p_value1 < alpha) and (p_value2 < alpha) and (be > bse):\n",
    "            print(name,\"-\",pname,\"better than\",name)\n",
    "            #fw.write(name+','+pname+'\\n')\n",
    "            \n",
    "        if (p_value3 < alpha) and (p_value2 < alpha):\n",
    "            print(name,\"-\",pname, \"worse than\",name)\n",
    "\n",
    "        print('____________________________________________\\n\\n')\n",
    "#fw.close()      \n",
    "#print(fin_dict)\n",
    "#print(fin_df)"
   ]
  },
  {
   "cell_type": "code",
   "execution_count": 5,
   "metadata": {},
   "outputs": [],
   "source": [
    "import networkx as nx"
   ]
  },
  {
   "cell_type": "code",
   "execution_count": 6,
   "metadata": {},
   "outputs": [
    {
     "data": {
      "image/png": "[encoded data removed]",
      "text/plain": [
       "<Figure size 432x288 with 1 Axes>"
      ]
     },
     "metadata": {},
     "output_type": "display_data"
    }
   ],
   "source": [
    "G = nx.read_edgelist('ODI-econ-edges.csv',create_using=nx.DiGraph(), delimiter=\",\")\n",
    "nx.draw_random(G,with_labels=True)\n",
    "plt.show()"
   ]
  },
  {
   "cell_type": "code",
   "execution_count": 19,
   "metadata": {},
   "outputs": [
    {
     "data": {
      "image/png": "[encoded data removed]",
      "text/plain": [
       "<Figure size 432x288 with 1 Axes>"
      ]
     },
     "metadata": {},
     "output_type": "display_data"
    }
   ],
   "source": [
    "G = nx.read_edgelist('ODI-econ-edges.csv',create_using=nx.DiGraph(), delimiter=\",\")\n",
    "pos = nx.random_layout(G)\n",
    "\n",
    "node_sizes = [40 for i in range(len(G))]\n",
    "M = G.number_of_edges()\n",
    "edge_colors = range(2, M + 2)\n",
    "edge_alphas = [(5 + i) / (M + 4) for i in range(M)]\n",
    "\n",
    "nodes = nx.draw_networkx_nodes(G, pos, node_size=node_sizes, node_color=\"blue\")\n",
    "\n",
    "edges = nx.draw_networkx_edges(\n",
    "    G,\n",
    "    pos,\n",
    "    node_size=node_sizes,\n",
    "    arrowstyle=\"->\",\n",
    "    arrowsize=10,\n",
    "    edge_color=edge_colors,\n",
    "    edge_cmap=plt.cm.Blues,\n",
    "    width=2,\n",
    ")\n",
    "\n",
    "ax = plt.gca()\n",
    "ax.set_axis_off()\n",
    "plt.show()"
   ]
  }
 ],
 "metadata": {
  "kernelspec": {
   "display_name": "Python 3",
   "language": "python",
   "name": "python3"
  },
  "language_info": {
   "codemirror_mode": {
    "name": "ipython",
    "version": 3
   },
   "file_extension": ".py",
   "mimetype": "text/x-python",
   "name": "python",
   "nbconvert_exporter": "python",
   "pygments_lexer": "ipython3",
   "version": "3.8.5"
  }
 },
 "nbformat": 4,
 "nbformat_minor": 4
}
